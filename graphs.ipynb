{
 "cells": [
  {
   "cell_type": "code",
   "execution_count": 2,
   "metadata": {},
   "outputs": [],
   "source": [
    "import numpy as np\n",
    "import matplotlib.pyplot as plt\n",
    "import pandas as pd"
   ]
  },
  {
   "cell_type": "markdown",
   "metadata": {},
   "source": [
    "### threadStartUpOverhead"
   ]
  },
  {
   "cell_type": "code",
   "execution_count": 6,
   "metadata": {
    "scrolled": true
   },
   "outputs": [
    {
     "name": "stdout",
     "output_type": "stream",
     "text": [
      "Average Thread StartUp Real Time =  5.666666666666667 ms\n"
     ]
    }
   ],
   "source": [
    "realTime = [7, 6, 5, 5, 6, 5]\n",
    "print(\"Average Thread StartUp Real Time = \", np.mean(realTime), \"ms\")"
   ]
  },
  {
   "cell_type": "markdown",
   "metadata": {},
   "source": [
    "### Global Sum using busy wait 1:"
   ]
  },
  {
   "cell_type": "code",
   "execution_count": 67,
   "metadata": {},
   "outputs": [],
   "source": [
    "x = []\n",
    "y = []"
   ]
  },
  {
   "cell_type": "code",
   "execution_count": 68,
   "metadata": {},
   "outputs": [
    {
     "name": "stdout",
     "output_type": "stream",
     "text": [
      "Average Time Taken =  1.14712 s\n",
      "Max Time Taken =  1.16559 s\n",
      "Min Time Taken =  1.1376 s\n"
     ]
    }
   ],
   "source": [
    "# threadCount = 1\n",
    "# Calculation Per Thread = 1e8\n",
    "timeTaken = [1.13964, 1.1376, 1.14885, 1.14102, 1.1387, 1.14915, 1.16559, 1.15641]\n",
    "print(\"Average Time Taken = \", np.mean(timeTaken), \"s\")\n",
    "print(\"Max Time Taken = \", np.max(timeTaken), \"s\")\n",
    "print(\"Min Time Taken = \", np.min(timeTaken), \"s\")\n",
    "x.append(np.mean(timeTaken))\n",
    "y.append(np.mean(timeTaken))"
   ]
  },
  {
   "cell_type": "code",
   "execution_count": 69,
   "metadata": {},
   "outputs": [],
   "source": [
    "# #threadCount = 2\n",
    "# #Calculation Per Thread = 1e8\n",
    "# chrono = [13.4263, 13.6741, 13.135, 13.6202, 13.4461, 13.6137, 12.9383]\n",
    "# user = [26.838, 27.316, 26.265, 27.207, 26.876, 27.212, 25.877]\n",
    "# print(\"Average Real Time Taken = \", np.mean(chrono), \"s\")\n",
    "# print(\"Max Real Time Taken = \", np.max(chrono), \"s\")\n",
    "# print(\"Min Time Taken = \", np.min(chrono), \"s\")\n",
    "# print(\"Average User Time Taken = \", np.mean(user), \"s\")"
   ]
  },
  {
   "cell_type": "code",
   "execution_count": 70,
   "metadata": {},
   "outputs": [
    {
     "name": "stdout",
     "output_type": "stream",
     "text": [
      "Average Real Time Taken =  6.82484875 s\n",
      "Max Real Time Taken =  7.12 s\n",
      "Min Time Taken =  6.4762 s\n",
      "Average User Time Taken =  13.646125 s\n"
     ]
    }
   ],
   "source": [
    "#threadCount = 2\n",
    "#Calculation per Thread = .5e8\n",
    "chrono = [6.49049, 6.77273, 7.01247, 6.9297, 6.815, 6.4762, 7.120, 6.9822]\n",
    "user = [12.981, 13.541, 14.014, 13.857, 13.622, 12.959, 14.230, 13.965]\n",
    "print(\"Average Real Time Taken = \", np.mean(chrono), \"s\")\n",
    "print(\"Max Real Time Taken = \", np.max(chrono), \"s\")\n",
    "print(\"Min Time Taken = \", np.min(chrono), \"s\")\n",
    "print(\"Average User Time Taken = \", np.mean(user), \"s\")\n",
    "x.append(np.mean(chrono))\n",
    "y.append(np.mean(user))"
   ]
  },
  {
   "cell_type": "code",
   "execution_count": 71,
   "metadata": {},
   "outputs": [
    {
     "name": "stdout",
     "output_type": "stream",
     "text": [
      "Average Real Time Taken =  6.4130675 s\n",
      "Max Real Time Taken =  6.631 s\n",
      "Min Time Taken =  6.055 s\n",
      "Average User Time Taken =  19.23075 s\n"
     ]
    }
   ],
   "source": [
    "#threadCount = 3\n",
    "#calculation per thread = 33333333\n",
    "chrono = [6.622, 6.250, 6.055, 6.381, 6.20944, 6.631, 6.6001, 6.556]\n",
    "user = [19.843, 18.743, 18.161, 19.144, 18.620, 19.866, 19.799, 19.670]\n",
    "print(\"Average Real Time Taken = \", np.mean(chrono), \"s\")\n",
    "print(\"Max Real Time Taken = \", np.max(chrono), \"s\")\n",
    "print(\"Min Time Taken = \", np.min(chrono), \"s\")\n",
    "print(\"Average User Time Taken = \", np.mean(user), \"s\")\n",
    "x.append(np.mean(chrono))\n",
    "y.append(np.mean(user))"
   ]
  },
  {
   "cell_type": "code",
   "execution_count": 72,
   "metadata": {},
   "outputs": [
    {
     "name": "stdout",
     "output_type": "stream",
     "text": [
      "Average Real Time Taken =  6.9164449999999995 s\n",
      "Max Real Time Taken =  8.175 s\n",
      "Min Time Taken =  6.0452 s\n",
      "Average User Time Taken =  27.039625 s\n"
     ]
    }
   ],
   "source": [
    "#threadCount = 4\n",
    "#calculation per thread = 25000000\n",
    "chrono = [6.58554, 6.0452, 6.19662, 7.891, 6.361, 7.8987, 8.175, 6.1785]\n",
    "user = [25.560, 23.896, 24.246, 30.824, 24.873, 30.862, 31.433, 24.623]\n",
    "print(\"Average Real Time Taken = \", np.mean(chrono), \"s\")\n",
    "print(\"Max Real Time Taken = \", np.max(chrono), \"s\")\n",
    "print(\"Min Time Taken = \", np.min(chrono), \"s\")\n",
    "print(\"Average User Time Taken = \", np.mean(user), \"s\")\n",
    "x.append(np.mean(chrono))\n",
    "y.append(np.mean(user))"
   ]
  },
  {
   "cell_type": "code",
   "execution_count": 73,
   "metadata": {},
   "outputs": [],
   "source": [
    "#threadCount = 5\n",
    "#calculation per thread = 20000000\n",
    "chrono = []\n",
    "user = []\n",
    "x.append(3700)\n",
    "y.append(3700)\n",
    "#Did not complete in 3 hrs"
   ]
  },
  {
   "cell_type": "code",
   "execution_count": 110,
   "metadata": {},
   "outputs": [
    {
     "data": {
      "image/png": "[encoded data removed]",
      "text/plain": [
       "<Figure size 432x288 with 1 Axes>"
      ]
     },
     "metadata": {
      "needs_background": "light"
     },
     "output_type": "display_data"
    }
   ],
   "source": [
    "# plt.plot([1, 2, 3, 4, 5], x, 'b-', marker = 'o')\n",
    "# # plt.plot()\n",
    "# plt.xlabel(\"Number of threads\")\n",
    "# plt.ylabel(\"Real Time(s)\")\n",
    "# plt.title(\"Busy Wait\")\n",
    "# plt.ylim(0, 10)\n",
    "# plt.show()\n",
    "\n",
    "plt.plot([1, 2, 3, 4, 5], y, 'b-', marker = 'o')\n",
    "# plt.plot()\n",
    "plt.xlabel(\"Number of threads\")\n",
    "plt.ylabel(\"User Time(s)\")\n",
    "plt.title(\"Busy Wait\")\n",
    "plt.ylim(0, 30)\n",
    "plt.show()"
   ]
  },
  {
   "cell_type": "markdown",
   "metadata": {},
   "source": [
    "### Global Sum Using Mutex1"
   ]
  },
  {
   "cell_type": "code",
   "execution_count": 93,
   "metadata": {},
   "outputs": [],
   "source": [
    "x1  = []\n",
    "y1 = []"
   ]
  },
  {
   "cell_type": "code",
   "execution_count": 94,
   "metadata": {},
   "outputs": [
    {
     "name": "stdout",
     "output_type": "stream",
     "text": [
      "Average Real Time Taken =  2.0680642857142857 s\n",
      "Max Real Time Taken =  2.13716 s\n",
      "Min Time Taken =  1.9801 s\n",
      "Average User Time Taken =  2.0677142857142856 s\n"
     ]
    }
   ],
   "source": [
    "# threadCount = 1\n",
    "# Calculation Per Thread = 1e8\n",
    "chrono = [2.10614, 2.0068, 2.09925, 2.13716,  2.104, 1.9801, 2.043]\n",
    "user = [2.105, 2.006, 2.094, 2.142, 2.097, 1.985, 2.045]\n",
    "print(\"Average Real Time Taken = \", np.mean(chrono), \"s\")\n",
    "print(\"Max Real Time Taken = \", np.max(chrono), \"s\")\n",
    "print(\"Min Time Taken = \", np.min(chrono), \"s\")\n",
    "print(\"Average User Time Taken = \", np.mean(user), \"s\")\n",
    "x1.append(np.mean(chrono))\n",
    "y1.append(np.mean(user))"
   ]
  },
  {
   "cell_type": "code",
   "execution_count": 95,
   "metadata": {},
   "outputs": [],
   "source": [
    "# #threadCount = 2\n",
    "# #Calculation Per Thread = 1e8\n",
    "# chrono = []\n",
    "# user = []\n",
    "# print(\"Average Real Time Taken = \", np.mean(chrono), \"s\")\n",
    "# print(\"Max Real Time Taken = \", np.max(chrono), \"s\")\n",
    "# print(\"Min Time Taken = \", np.min(chrono), \"s\")\n",
    "# print(\"Average User Time Taken = \", np.mean(user), \"s\")\n",
    "# x1.append(np.mean(chrono))\n",
    "# y1.append(np.mean(user))"
   ]
  },
  {
   "cell_type": "code",
   "execution_count": 96,
   "metadata": {},
   "outputs": [
    {
     "name": "stdout",
     "output_type": "stream",
     "text": [
      "Average Real Time Taken =  9.78981 s\n",
      "Max Real Time Taken =  13.7073 s\n",
      "Min Time Taken =  7.82171 s\n",
      "Average User Time Taken =  10.417999999999997 s\n"
     ]
    }
   ],
   "source": [
    "#threadCount = 2\n",
    "#Calculation per Thread = .5e8\n",
    "chrono = [8.22946, 8.453, 13.7073, 10.9247, 8.5225, 10.870, 7.82171]\n",
    "user = [8.229, 9.386, 14.403, 11.939, 9.230, 11.529, 8.210]\n",
    "print(\"Average Real Time Taken = \", np.mean(chrono), \"s\")\n",
    "print(\"Max Real Time Taken = \", np.max(chrono), \"s\")\n",
    "print(\"Min Time Taken = \", np.min(chrono), \"s\")\n",
    "print(\"Average User Time Taken = \", np.mean(user), \"s\")\n",
    "x1.append(np.mean(chrono))\n",
    "y1.append(np.mean(user))"
   ]
  },
  {
   "cell_type": "code",
   "execution_count": 97,
   "metadata": {},
   "outputs": [
    {
     "name": "stdout",
     "output_type": "stream",
     "text": [
      "Average Real Time Taken =  9.18902857142857 s\n",
      "Max Real Time Taken =  9.878 s\n",
      "Min Time Taken =  7.434 s\n",
      "Average User Time Taken =  11.839285714285717 s\n"
     ]
    }
   ],
   "source": [
    "#threadCount = 3\n",
    "#calculation per thread = 33333333\n",
    "chrono = [9.878, 7.434, 9.451, 9.799, 9.260, 9.119, 9.3822]\n",
    "user = [12.529, 9.736, 12.241, 12.295, 11.849, 12.096, 12.129]\n",
    "print(\"Average Real Time Taken = \", np.mean(chrono), \"s\")\n",
    "print(\"Max Real Time Taken = \", np.max(chrono), \"s\")\n",
    "print(\"Min Time Taken = \", np.min(chrono), \"s\")\n",
    "print(\"Average User Time Taken = \", np.mean(user), \"s\")\n",
    "x1.append(np.mean(chrono))\n",
    "y1.append(np.mean(user))"
   ]
  },
  {
   "cell_type": "code",
   "execution_count": 98,
   "metadata": {},
   "outputs": [
    {
     "name": "stdout",
     "output_type": "stream",
     "text": [
      "Average Real Time Taken =  10.120542857142855 s\n",
      "Max Real Time Taken =  10.8375 s\n",
      "Min Time Taken =  8.7542 s\n",
      "Average User Time Taken =  14.425142857142857 s\n"
     ]
    }
   ],
   "source": [
    "#threadCount = 4\n",
    "#calculation per thread = 25000000\n",
    "chrono = [8.7542, 10.6717, 10.5723, 10.6881, 10.8375, 10.467, 8.853]\n",
    "user = [12.108, 15.179, 14.998, 15.393, 15.500, 15.344, 12.454]\n",
    "print(\"Average Real Time Taken = \", np.mean(chrono), \"s\")\n",
    "print(\"Max Real Time Taken = \", np.max(chrono), \"s\")\n",
    "print(\"Min Time Taken = \", np.min(chrono), \"s\")\n",
    "print(\"Average User Time Taken = \", np.mean(user), \"s\")\n",
    "x1.append(np.mean(chrono))\n",
    "y1.append(np.mean(user))"
   ]
  },
  {
   "cell_type": "code",
   "execution_count": 99,
   "metadata": {},
   "outputs": [
    {
     "name": "stdout",
     "output_type": "stream",
     "text": [
      "Average Real Time Taken =  9.950042857142858 s\n",
      "Max Real Time Taken =  10.703 s\n",
      "Min Time Taken =  9.012 s\n",
      "Average User Time Taken =  13.901571428571428 s\n"
     ]
    }
   ],
   "source": [
    "#threadCount = 5\n",
    "#calculation per thread = 20000000\n",
    "chrono = [9.157, 9.1386, 10.701, 10.3674, 10.5713, 9.012, 10.703]\n",
    "user = [12.215, 12.424, 15.099, 14.794, 15.283, 12.282, 15.214]\n",
    "print(\"Average Real Time Taken = \", np.mean(chrono), \"s\")\n",
    "print(\"Max Real Time Taken = \", np.max(chrono), \"s\")\n",
    "print(\"Min Time Taken = \", np.min(chrono), \"s\")\n",
    "print(\"Average User Time Taken = \", np.mean(user), \"s\")\n",
    "x1.append(np.mean(chrono))\n",
    "y1.append(np.mean(user))"
   ]
  },
  {
   "cell_type": "code",
   "execution_count": 100,
   "metadata": {},
   "outputs": [
    {
     "name": "stdout",
     "output_type": "stream",
     "text": [
      "Average Real Time Taken =  10.142705714285714 s\n",
      "Max Real Time Taken =  11.071 s\n",
      "Min Time Taken =  9.287 s\n",
      "Average User Time Taken =  13.89357142857143 s\n"
     ]
    }
   ],
   "source": [
    "#threadCount = 10\n",
    "#calculation per thread = 10000000\n",
    "chrono = [9.287, 11.0326, 11.061, 9.6471, 11.071, 9.43864, 9.4616]\n",
    "user = [12.422, 15.765, 15.290, 13.010, 15.754, 12.626, 12.388]\n",
    "print(\"Average Real Time Taken = \", np.mean(chrono), \"s\")\n",
    "print(\"Max Real Time Taken = \", np.max(chrono), \"s\")\n",
    "print(\"Min Time Taken = \", np.min(chrono), \"s\")\n",
    "print(\"Average User Time Taken = \", np.mean(user), \"s\")\n",
    "x1.append(np.mean(chrono))\n",
    "y1.append(np.mean(user))"
   ]
  },
  {
   "cell_type": "code",
   "execution_count": 108,
   "metadata": {},
   "outputs": [
    {
     "data": {
      "image/png": "[encoded data removed]",
      "text/plain": [
       "<Figure size 432x288 with 1 Axes>"
      ]
     },
     "metadata": {
      "needs_background": "light"
     },
     "output_type": "display_data"
    }
   ],
   "source": [
    "# plt.plot([1, 2, 3, 4, 5, 10], x1, 'b-', marker = 'o')\n",
    "# # plt.plot()\n",
    "# plt.xlabel(\"Number of threads\")\n",
    "# plt.ylabel(\"Real Time(s)\")\n",
    "# plt.title(\"Mutex\")\n",
    "# plt.ylim(0, 12)\n",
    "# plt.show()\n",
    "\n",
    "plt.plot([1, 2, 3, 4, 5, 10], y1, 'b-', marker = 'o')\n",
    "# plt.plot()\n",
    "plt.xlabel(\"Number of threads\")\n",
    "plt.ylabel(\"User Time(s)\")\n",
    "plt.title(\"Mutex\")\n",
    "plt.ylim(0, 15)\n",
    "plt.show()"
   ]
  },
  {
   "cell_type": "markdown",
   "metadata": {},
   "source": [
    "##### Combined Graph"
   ]
  },
  {
   "cell_type": "code",
   "execution_count": 119,
   "metadata": {},
   "outputs": [
    {
     "data": {
      "image/png": "[encoded data removed]",
      "text/plain": [
       "<Figure size 432x288 with 1 Axes>"
      ]
     },
     "metadata": {
      "needs_background": "light"
     },
     "output_type": "display_data"
    }
   ],
   "source": [
    "# plt.plot([1, 2, 3, 4, 5], x, 'r-', marker = 'o', label = \"busyWait\")\n",
    "# # plt.plot()\n",
    "# plt.xlabel(\"Number of threads\")\n",
    "# plt.ylabel(\"Real Time(s)\")\n",
    "# # plt.title(\"Busy Wait\")\n",
    "# # plt.ylim(0, 10)\n",
    "# # plt.show()\n",
    "\n",
    "# plt.plot([1, 2, 3, 4, 5, 10], x1, 'b-', marker = 'o', label = \"mutex\")\n",
    "# # plt.plot()\n",
    "# # plt.xlabel(\"Number of threads\")\n",
    "# # plt.ylabel(\"Real Time(s)\")\n",
    "# plt.title(\"Mutex vs Busy Wait\")\n",
    "# plt.ylim(0, 12)\n",
    "# plt.legend()\n",
    "# plt.show()\n",
    "\n",
    "plt.plot([1, 2, 3, 4, 5], y, 'r-', marker = 'o', label = \"busyWait\")\n",
    "# plt.plot()\n",
    "# plt.xlabel(\"Number of threads\")\n",
    "# plt.ylabel(\"User Time(s)\")\n",
    "# plt.title(\"Busy Wait\")\n",
    "plt.ylim(0, 30)\n",
    "# plt.show()\n",
    "\n",
    "plt.plot([1, 2, 3, 4, 5, 10], y1, 'b-', marker = 'o', label = \"mutex\")\n",
    "# plt.plot()\n",
    "plt.xlabel(\"Number of threads\")\n",
    "plt.ylabel(\"User Time(s)\")\n",
    "plt.title(\"Mutex vs Busy Wait\")\n",
    "plt.legend()\n",
    "# plt.ylim(0, 15)\n",
    "plt.show()"
   ]
  },
  {
   "cell_type": "markdown",
   "metadata": {},
   "source": [
    "### Global Sum using busy_wait2"
   ]
  },
  {
   "cell_type": "code",
   "execution_count": 121,
   "metadata": {},
   "outputs": [],
   "source": [
    "x2 = []\n",
    "y2 = []"
   ]
  },
  {
   "cell_type": "code",
   "execution_count": 122,
   "metadata": {},
   "outputs": [
    {
     "name": "stdout",
     "output_type": "stream",
     "text": [
      "Average Real Time Taken =  0.3285944285714285 s\n",
      "Max Real Time Taken =  0.334 s\n",
      "Min Time Taken =  0.3054 s\n",
      "Average User Time Taken =  0.3315714285714286 s\n"
     ]
    }
   ],
   "source": [
    "#threadCount = 1\n",
    "#calculation per thread = 10000000\n",
    "chrono = [0.3318, 0.334, 0.329761, 0.333, 0.333, 0.3332, 0.3054]\n",
    "user = [0.338, 0.34, 0.33, 0.336, 0.335, 0.335, 0.307]\n",
    "print(\"Average Real Time Taken = \", np.mean(chrono), \"s\")\n",
    "print(\"Max Real Time Taken = \", np.max(chrono), \"s\")\n",
    "print(\"Min Time Taken = \", np.min(chrono), \"s\")\n",
    "print(\"Average User Time Taken = \", np.mean(user), \"s\")\n",
    "x2.append(np.mean(chrono))\n",
    "y2.append(np.mean(user))"
   ]
  },
  {
   "cell_type": "code",
   "execution_count": 123,
   "metadata": {},
   "outputs": [
    {
     "name": "stdout",
     "output_type": "stream",
     "text": [
      "Average Real Time Taken =  0.17852571428571423 s\n",
      "Max Real Time Taken =  0.1835 s\n",
      "Min Time Taken =  0.1599 s\n",
      "Average User Time Taken =  0.3587142857142857 s\n"
     ]
    }
   ],
   "source": [
    "#threadCount = 2\n",
    "#calculation per thread = 5000000\n",
    "chrono = [0.182, 0.1819, 0.177, 0.1835, 0.182, 0.1599, 0.18338, ]\n",
    "user = [0.370, 0.362, 0.361, 0.362, 0.369, 0.319, 0.368, ]\n",
    "print(\"Average Real Time Taken = \", np.mean(chrono), \"s\")\n",
    "print(\"Max Real Time Taken = \", np.max(chrono), \"s\")\n",
    "print(\"Min Time Taken = \", np.min(chrono), \"s\")\n",
    "print(\"Average User Time Taken = \", np.mean(user), \"s\")\n",
    "x2.append(np.mean(chrono))\n",
    "y2.append(np.mean(user))"
   ]
  },
  {
   "cell_type": "code",
   "execution_count": 124,
   "metadata": {},
   "outputs": [
    {
     "name": "stdout",
     "output_type": "stream",
     "text": [
      "Average Real Time Taken =  0.17107142857142857 s\n",
      "Max Real Time Taken =  0.181 s\n",
      "Min Time Taken =  0.159 s\n",
      "Average User Time Taken =  0.4771428571428572 s\n"
     ]
    }
   ],
   "source": [
    "#threadCount = 3\n",
    "#calculation per thread = 33333333\n",
    "chrono = [0.1713, 0.159, 0.162, 0.1772, 0.179, 0.168, 0.181]\n",
    "user = [0.492, 0.443, 0.486, 0.485, 0.494, 0.461, 0.479]\n",
    "print(\"Average Real Time Taken = \", np.mean(chrono), \"s\")\n",
    "print(\"Max Real Time Taken = \", np.max(chrono), \"s\")\n",
    "print(\"Min Time Taken = \", np.min(chrono), \"s\")\n",
    "print(\"Average User Time Taken = \", np.mean(user), \"s\")\n",
    "x2.append(np.mean(chrono))\n",
    "y2.append(np.mean(user))"
   ]
  },
  {
   "cell_type": "code",
   "execution_count": 125,
   "metadata": {},
   "outputs": [
    {
     "name": "stdout",
     "output_type": "stream",
     "text": [
      "Average Real Time Taken =  0.13641 s\n",
      "Max Real Time Taken =  0.149 s\n",
      "Min Time Taken =  0.123 s\n",
      "Average User Time Taken =  0.49057142857142855 s\n"
     ]
    }
   ],
   "source": [
    "#threadCount = 4\n",
    "#calculation per thread = 25000000\n",
    "chrono = [0.13987, 0.142, 0.132, 0.149, 0.140, 0.123, 0.129]\n",
    "user = [0.508, 0.511, 0.466, 0.527, 0.505, 0.453, 0.464]\n",
    "print(\"Average Real Time Taken = \", np.mean(chrono), \"s\")\n",
    "print(\"Max Real Time Taken = \", np.max(chrono), \"s\")\n",
    "print(\"Min Time Taken = \", np.min(chrono), \"s\")\n",
    "print(\"Average User Time Taken = \", np.mean(user), \"s\")\n",
    "x2.append(np.mean(chrono))\n",
    "y2.append(np.mean(user))"
   ]
  },
  {
   "cell_type": "code",
   "execution_count": 126,
   "metadata": {},
   "outputs": [
    {
     "name": "stdout",
     "output_type": "stream",
     "text": [
      "Average Real Time Taken =  0.15171428571428572 s\n",
      "Max Real Time Taken =  0.161 s\n",
      "Min Time Taken =  0.146 s\n",
      "Average User Time Taken =  0.48742857142857143 s\n"
     ]
    }
   ],
   "source": [
    "#threadCount = 5\n",
    "#calculation per thread = 20000000\n",
    "chrono = [0.148, 0.154, 0.147, 0.146, 0.160, 0.161, 0.146]\n",
    "user = [0.152, 0.544, 0.571, 0.496, 0.571, 0.554, 0.524]\n",
    "print(\"Average Real Time Taken = \", np.mean(chrono), \"s\")\n",
    "print(\"Max Real Time Taken = \", np.max(chrono), \"s\")\n",
    "print(\"Min Time Taken = \", np.min(chrono), \"s\")\n",
    "print(\"Average User Time Taken = \", np.mean(user), \"s\")\n",
    "x2.append(np.mean(chrono))\n",
    "y2.append(np.mean(user))"
   ]
  },
  {
   "cell_type": "code",
   "execution_count": 127,
   "metadata": {},
   "outputs": [
    {
     "name": "stdout",
     "output_type": "stream",
     "text": [
      "Average Real Time Taken =  0.18015814285714285 s\n",
      "Max Real Time Taken =  0.1997 s\n",
      "Min Time Taken =  0.1542 s\n",
      "Average User Time Taken =  0.665 s\n"
     ]
    }
   ],
   "source": [
    "#threadCount = 8\n",
    "#calculation per thread = 12500000\n",
    "chrono = [0.168, 0.185107, 0.1997, 0.1970, 0.1871, 0.1542, 0.170]\n",
    "user = [0.604, 0.698, 0.742, 0.734, 0.703, 0.544, 0.630]\n",
    "print(\"Average Real Time Taken = \", np.mean(chrono), \"s\")\n",
    "print(\"Max Real Time Taken = \", np.max(chrono), \"s\")\n",
    "print(\"Min Time Taken = \", np.min(chrono), \"s\")\n",
    "print(\"Average User Time Taken = \", np.mean(user), \"s\")\n",
    "x2.append(np.mean(chrono))\n",
    "y2.append(np.mean(user))"
   ]
  },
  {
   "cell_type": "code",
   "execution_count": 128,
   "metadata": {},
   "outputs": [
    {
     "name": "stdout",
     "output_type": "stream",
     "text": [
      "Average Real Time Taken =  0.2435365714285714 s\n",
      "Max Real Time Taken =  0.2824 s\n",
      "Min Time Taken =  0.197 s\n",
      "Average User Time Taken =  0.9152857142857143 s\n"
     ]
    }
   ],
   "source": [
    "#threadCount = 16\n",
    "#calculation per thread = 6250000\n",
    "chrono = [0.248, 0.2824, 0.270356, 0.197, 0.245, 0.228, 0.234]\n",
    "user = [0.921, 1.054, 1.019, 0.743, 0.927, 0.857, 0.886]\n",
    "print(\"Average Real Time Taken = \", np.mean(chrono), \"s\")\n",
    "print(\"Max Real Time Taken = \", np.max(chrono), \"s\")\n",
    "print(\"Min Time Taken = \", np.min(chrono), \"s\")\n",
    "print(\"Average User Time Taken = \", np.mean(user), \"s\")\n",
    "x2.append(np.mean(chrono))\n",
    "y2.append(np.mean(user))"
   ]
  },
  {
   "cell_type": "code",
   "execution_count": 129,
   "metadata": {},
   "outputs": [
    {
     "name": "stdout",
     "output_type": "stream",
     "text": [
      "Average Real Time Taken =  0.2951428571428572 s\n",
      "Max Real Time Taken =  0.367 s\n",
      "Min Time Taken =  0.229 s\n",
      "Average User Time Taken =  1.1154285714285714 s\n"
     ]
    }
   ],
   "source": [
    "x3.append(np.mean(chrono))\n",
    "y3.append(np.mean(user))#threadCount = 20\n",
    "#calculation per thread = 5000000\n",
    "chrono = [0.268, 0.322, 0.322, 0.298, 0.260, 0.367, 0.229]\n",
    "user = [1.042, 1.218, 1.234, 1.120, 0.969, 1.389, 0.836]\n",
    "print(\"Average Real Time Taken = \", np.mean(chrono), \"s\")\n",
    "print(\"Max Real Time Taken = \", np.max(chrono), \"s\")\n",
    "print(\"Min Time Taken = \", np.min(chrono), \"s\")\n",
    "print(\"Average User Time Taken = \", np.mean(user), \"s\")\n",
    "x2.append(np.mean(chrono))\n",
    "y2.append(np.mean(user))"
   ]
  },
  {
   "cell_type": "code",
   "execution_count": 132,
   "metadata": {},
   "outputs": [
    {
     "data": {
      "text/plain": [
       "[0.3285944285714285,\n",
       " 0.17852571428571423,\n",
       " 0.17107142857142857,\n",
       " 0.13641,\n",
       " 0.15171428571428572,\n",
       " 0.18015814285714285,\n",
       " 0.2435365714285714,\n",
       " 0.2951428571428572]"
      ]
     },
     "execution_count": 132,
     "metadata": {},
     "output_type": "execute_result"
    }
   ],
   "source": [
    "x2"
   ]
  },
  {
   "cell_type": "code",
   "execution_count": 140,
   "metadata": {},
   "outputs": [
    {
     "data": {
      "image/png": "[encoded data removed]",
      "text/plain": [
       "<Figure size 432x288 with 1 Axes>"
      ]
     },
     "metadata": {
      "needs_background": "light"
     },
     "output_type": "display_data"
    }
   ],
   "source": [
    "# plt.plot([1, 2, 3, 4, 5, 8, 16, 20], x2, 'r-', marker = 'o', label = \"busyWait\")\n",
    "# plt.xlabel(\"num of threads\")\n",
    "# plt.ylabel(\"Real time(s)\")\n",
    "# plt.title(\"busyWait\")\n",
    "# plt.legend()\n",
    "# plt.ylim(0, 0.5)\n",
    "# plt.show()\n",
    "\n",
    "plt.plot([1, 2, 3, 4, 5, 8, 16, 20], y2, 'r-', marker = 'o', label = \"busyWait\")\n",
    "plt.xlabel(\"num of threads\")\n",
    "plt.ylabel(\"User time(s)\")\n",
    "plt.title(\"busyWait\")\n",
    "plt.legend()\n",
    "plt.ylim(0, 1.5)\n",
    "plt.show()"
   ]
  },
  {
   "cell_type": "markdown",
   "metadata": {},
   "source": [
    "### Global Sum using Mutex 2"
   ]
  },
  {
   "cell_type": "code",
   "execution_count": 142,
   "metadata": {},
   "outputs": [],
   "source": [
    "x3 = []\n",
    "y3 = []"
   ]
  },
  {
   "cell_type": "code",
   "execution_count": 143,
   "metadata": {},
   "outputs": [
    {
     "name": "stdout",
     "output_type": "stream",
     "text": [
      "Average Real Time Taken =  0.3238 s\n",
      "Max Real Time Taken =  0.3294 s\n",
      "Min Time Taken =  0.3088 s\n",
      "Average User Time Taken =  0.32657142857142857 s\n"
     ]
    }
   ],
   "source": [
    "#threadCount = 1\n",
    "#calculation per thread = 10000000\n",
    "chrono = [0.3088, 0.3294, 0.3294, 0.328, 0.325, 0.323, 0.323]\n",
    "user = [0.308, 0.336, 0.331, 0.330, 0.327, 0.325, 0.329]\n",
    "print(\"Average Real Time Taken = \", np.mean(chrono), \"s\")\n",
    "print(\"Max Real Time Taken = \", np.max(chrono), \"s\")\n",
    "print(\"Min Time Taken = \", np.min(chrono), \"s\")\n",
    "print(\"Average User Time Taken = \", np.mean(user), \"s\")\n",
    "x3.append(np.mean(chrono))\n",
    "y3.append(np.mean(user))"
   ]
  },
  {
   "cell_type": "code",
   "execution_count": 144,
   "metadata": {},
   "outputs": [
    {
     "name": "stdout",
     "output_type": "stream",
     "text": [
      "Average Real Time Taken =  0.19285714285714284 s\n",
      "Max Real Time Taken =  0.21 s\n",
      "Min Time Taken =  0.179 s\n",
      "Average User Time Taken =  0.3875714285714285 s\n"
     ]
    }
   ],
   "source": [
    "#threadCount = 2\n",
    "#calculation per thread = 5000000\n",
    "chrono = [0.179, 0.208, 0.210, 0.184, 0.205, 0.181, 0.183]\n",
    "user = [0.355, 0.414, 0.427, 0.369, 0.414, 0.363, 0.371]\n",
    "print(\"Average Real Time Taken = \", np.mean(chrono), \"s\")\n",
    "print(\"Max Real Time Taken = \", np.max(chrono), \"s\")\n",
    "print(\"Min Time Taken = \", np.min(chrono), \"s\")\n",
    "print(\"Average User Time Taken = \", np.mean(user), \"s\")\n",
    "x3.append(np.mean(chrono))\n",
    "y3.append(np.mean(user))"
   ]
  },
  {
   "cell_type": "code",
   "execution_count": 145,
   "metadata": {},
   "outputs": [
    {
     "name": "stdout",
     "output_type": "stream",
     "text": [
      "Average Real Time Taken =  0.16542857142857142 s\n",
      "Max Real Time Taken =  0.176 s\n",
      "Min Time Taken =  0.145 s\n",
      "Average User Time Taken =  0.4382857142857143 s\n"
     ]
    }
   ],
   "source": [
    "#threadCount = 3\n",
    "#calculation per thread = 33333333\n",
    "chrono = [0.170, 0.168, 0.176, 0.148, 0.175, 0.176, 0.145]\n",
    "user = [0.447, 0.446, 0.459, 0.379, 0.464, 0.477, 0.396]\n",
    "print(\"Average Real Time Taken = \", np.mean(chrono), \"s\")\n",
    "print(\"Max Real Time Taken = \", np.max(chrono), \"s\")\n",
    "print(\"Min Time Taken = \", np.min(chrono), \"s\")\n",
    "print(\"Average User Time Taken = \", np.mean(user), \"s\")\n",
    "x3.append(np.mean(chrono))\n",
    "y3.append(np.mean(user))"
   ]
  },
  {
   "cell_type": "code",
   "execution_count": 146,
   "metadata": {},
   "outputs": [
    {
     "name": "stdout",
     "output_type": "stream",
     "text": [
      "Average Real Time Taken =  0.1447142857142857 s\n",
      "Max Real Time Taken =  0.149 s\n",
      "Min Time Taken =  0.142 s\n",
      "Average User Time Taken =  0.5132857142857142 s\n"
     ]
    }
   ],
   "source": [
    "#threadCount = 4\n",
    "#calculation per thread = 25000000\n",
    "chrono = [0.145, 0.149, 0.147, 0.142, 0.145, 0.142, 0.143]\n",
    "user = [0.514, 0.514, 0.523, 0.518, 0.511, 0.508, 0.505]\n",
    "print(\"Average Real Time Taken = \", np.mean(chrono), \"s\")\n",
    "print(\"Max Real Time Taken = \", np.max(chrono), \"s\")\n",
    "print(\"Min Time Taken = \", np.min(chrono), \"s\")\n",
    "print(\"Average User Time Taken = \", np.mean(user), \"s\")\n",
    "x3.append(np.mean(chrono))\n",
    "y3.append(np.mean(user))"
   ]
  },
  {
   "cell_type": "code",
   "execution_count": 147,
   "metadata": {},
   "outputs": [
    {
     "name": "stdout",
     "output_type": "stream",
     "text": [
      "Average Real Time Taken =  0.15754285714285715 s\n",
      "Max Real Time Taken =  0.1718 s\n",
      "Min Time Taken =  0.147 s\n",
      "Average User Time Taken =  0.5155714285714286 s\n"
     ]
    }
   ],
   "source": [
    "#threadCount = 5\n",
    "#calculation per thread = 20000000\n",
    "chrono = [0.160, 0.152, 0.1718, 0.158, 0.157, 0.147, 0.157]\n",
    "user = [0.527, 0.525, 0.531, 0.515, 0.506, 0.496, 0.509]\n",
    "print(\"Average Real Time Taken = \", np.mean(chrono), \"s\")\n",
    "print(\"Max Real Time Taken = \", np.max(chrono), \"s\")\n",
    "print(\"Min Time Taken = \", np.min(chrono), \"s\")\n",
    "print(\"Average User Time Taken = \", np.mean(user), \"s\")\n",
    "x3.append(np.mean(chrono))\n",
    "y3.append(np.mean(user))"
   ]
  },
  {
   "cell_type": "code",
   "execution_count": 148,
   "metadata": {},
   "outputs": [
    {
     "name": "stdout",
     "output_type": "stream",
     "text": [
      "Average Real Time Taken =  0.13658571428571428 s\n",
      "Max Real Time Taken =  0.1451 s\n",
      "Min Time Taken =  0.118 s\n",
      "Average User Time Taken =  0.484 s\n"
     ]
    }
   ],
   "source": [
    "#threadCount = 8\n",
    "#calculation per thread = 12500000\n",
    "chrono = [0.121, 0.143, 0.1451, 0.145, 0.118, 0.143, 0.141]\n",
    "user = [0.440, 0.509, 0.514, 0.497, 0.426, 0.502, 0.500]\n",
    "print(\"Average Real Time Taken = \", np.mean(chrono), \"s\")\n",
    "print(\"Max Real Time Taken = \", np.max(chrono), \"s\")\n",
    "print(\"Min Time Taken = \", np.min(chrono), \"s\")\n",
    "print(\"Average User Time Taken = \", np.mean(user), \"s\")\n",
    "x3.append(np.mean(chrono))\n",
    "y3.append(np.mean(user))"
   ]
  },
  {
   "cell_type": "code",
   "execution_count": 149,
   "metadata": {},
   "outputs": [
    {
     "name": "stdout",
     "output_type": "stream",
     "text": [
      "Average Real Time Taken =  0.13477142857142857 s\n",
      "Max Real Time Taken =  0.1444 s\n",
      "Min Time Taken =  0.118 s\n",
      "Average User Time Taken =  0.48571428571428577 s\n"
     ]
    }
   ],
   "source": [
    "#threadCount = 16\n",
    "#calculation per thread = 6250000\n",
    "chrono = [0.138, 0.143, 0.144, 0.1444, 0.118, 0.135, 0.121]\n",
    "user = [0.501, 0.511, 0.508, 0.510, 0.434, 0.502, 0.434]\n",
    "print(\"Average Real Time Taken = \", np.mean(chrono), \"s\")\n",
    "print(\"Max Real Time Taken = \", np.max(chrono), \"s\")\n",
    "print(\"Min Time Taken = \", np.min(chrono), \"s\")\n",
    "print(\"Average User Time Taken = \", np.mean(user), \"s\")\n",
    "x3.append(np.mean(chrono))\n",
    "y3.append(np.mean(user))"
   ]
  },
  {
   "cell_type": "code",
   "execution_count": 150,
   "metadata": {},
   "outputs": [
    {
     "name": "stdout",
     "output_type": "stream",
     "text": [
      "Average Real Time Taken =  0.1412857142857143 s\n",
      "Max Real Time Taken =  0.144 s\n",
      "Min Time Taken =  0.136 s\n",
      "Average User Time Taken =  0.5092857142857142 s\n"
     ]
    }
   ],
   "source": [
    "#threadCount = 20\n",
    "#calculation per thread = 5000000\n",
    "chrono = [0.141, 0.143, 0.144, 0.136, 0.144, 0.143, 0.138]\n",
    "user = [0.502, 0.526, 0.511, 0.498, 0.521, 0.501, 0.506]\n",
    "print(\"Average Real Time Taken = \", np.mean(chrono), \"s\")\n",
    "print(\"Max Real Time Taken = \", np.max(chrono), \"s\")\n",
    "print(\"Min Time Taken = \", np.min(chrono), \"s\")\n",
    "print(\"Average User Time Taken = \", np.mean(user), \"s\")\n",
    "x3.append(np.mean(chrono))\n",
    "y3.append(np.mean(user))"
   ]
  },
  {
   "cell_type": "code",
   "execution_count": 154,
   "metadata": {},
   "outputs": [
    {
     "data": {
      "image/png": "[encoded data removed]",
      "text/plain": [
       "<Figure size 432x288 with 1 Axes>"
      ]
     },
     "metadata": {
      "needs_background": "light"
     },
     "output_type": "display_data"
    }
   ],
   "source": [
    "# plt.plot([1, 2, 3, 4, 5, 8, 16, 20], x3, 'b-', marker = 'o', label = \"Mutex\")\n",
    "# plt.xlabel(\"num of threads\")\n",
    "# plt.ylabel(\"Real time(s)\")\n",
    "# plt.title(\"Mutex\")\n",
    "# plt.legend()\n",
    "# plt.ylim(0, 0.5)\n",
    "# plt.show()\n",
    "\n",
    "plt.plot([1, 2, 3, 4, 5, 8, 16, 20], y3, 'b-', marker = 'o', label = \"Mutex\")\n",
    "plt.xlabel(\"num of threads\")\n",
    "plt.ylabel(\"User time(s)\")\n",
    "plt.title(\"Mutex\")\n",
    "plt.legend()\n",
    "plt.ylim(0, 0.6)\n",
    "plt.show()"
   ]
  },
  {
   "cell_type": "markdown",
   "metadata": {},
   "source": [
    "#### combined Graph"
   ]
  },
  {
   "cell_type": "markdown",
   "metadata": {},
   "source": [
    "###### Real time"
   ]
  },
  {
   "cell_type": "code",
   "execution_count": 160,
   "metadata": {},
   "outputs": [
    {
     "data": {
      "image/png": "[encoded data removed]",
      "text/plain": [
       "<Figure size 432x288 with 1 Axes>"
      ]
     },
     "metadata": {
      "needs_background": "light"
     },
     "output_type": "display_data"
    }
   ],
   "source": [
    "plt.plot([1, 2, 3, 4, 5, 8, 16, 20], x3, 'b-', marker = 'o', label = \"Mutex\")\n",
    "plt.xlabel(\"num of threads\")\n",
    "plt.ylabel(\"Real time(s)\")\n",
    "plt.title(\"Mutex vs busyWait\")\n",
    "plt.ylim(0, 0.5)\n",
    "# plt.show()\n",
    "\n",
    "plt.plot([1, 2, 3, 4, 5, 8, 16, 20], x2, 'r-', marker = 'o', label = \"busyWait\")\n",
    "plt.legend()\n",
    "plt.show()"
   ]
  },
  {
   "cell_type": "markdown",
   "metadata": {},
   "source": [
    "##### USER Time"
   ]
  },
  {
   "cell_type": "code",
   "execution_count": 161,
   "metadata": {},
   "outputs": [
    {
     "data": {
      "image/png": "[encoded data removed]",
      "text/plain": [
       "<Figure size 432x288 with 1 Axes>"
      ]
     },
     "metadata": {
      "needs_background": "light"
     },
     "output_type": "display_data"
    }
   ],
   "source": [
    "plt.plot([1, 2, 3, 4, 5, 8, 16, 20], y3, 'b-', marker = 'o', label = \"Mutex\")\n",
    "plt.xlabel(\"num of threads\")\n",
    "plt.ylabel(\"User time(s)\")\n",
    "plt.title(\"Mutex vs busyWait\")\n",
    "plt.ylim(0, 1.2)\n",
    "# plt.show()\n",
    "\n",
    "plt.plot([1, 2, 3, 4, 5, 8, 16, 20], y2, 'r-', marker = 'o', label = \"busyWait\")\n",
    "plt.legend()\n",
    "plt.show()"
   ]
  },
  {
   "cell_type": "markdown",
   "metadata": {},
   "source": [
    "---"
   ]
  },
  {
   "cell_type": "code",
   "execution_count": null,
   "metadata": {},
   "outputs": [],
   "source": []
  },
  {
   "cell_type": "markdown",
   "metadata": {},
   "source": [
    "### THREAD barrier 1"
   ]
  },
  {
   "cell_type": "code",
   "execution_count": 185,
   "metadata": {},
   "outputs": [
    {
     "data": {
      "image/png": "[encoded data removed]",
      "text/plain": [
       "<Figure size 432x288 with 1 Axes>"
      ]
     },
     "metadata": {
      "needs_background": "light"
     },
     "output_type": "display_data"
    }
   ],
   "source": [
    "countingSem = [\n",
    "0.15,\n",
    "0.14,\n",
    "0.09,\n",
    "0.11,\n",
    "0.13,\n",
    "0.11,\n",
    "0.22,\n",
    "0.17\n",
    "]\n",
    "\n",
    "binSem = [\n",
    "0.16,\n",
    "0.15,\n",
    "0.11,\n",
    "0.095,\n",
    "0.11,\n",
    "0.13,\n",
    "0.20,\n",
    "0.16\n",
    "]\n",
    "\n",
    "condVar = [\n",
    "0.29,\n",
    "0.19,\n",
    "0.12,\n",
    "0.087,\n",
    "0.12,\n",
    "0.12,\n",
    "0.21,\n",
    "0.17\n",
    "\n",
    "]\n",
    "\n",
    "busyWait = [\n",
    "0.17,\n",
    "0.13,\n",
    "0.272,\n",
    "0.31,\n",
    "2.2,\n",
    "2.4,\n",
    "2.4,\n",
    "2.58\n",
    "\n",
    "]\n",
    "\n",
    "numT = [1, 2, 3, 4, 5, 8, 16, 20]\n",
    "\n",
    "# plt.plot(numT, countingSem, 'r-', marker = 'o', label = \"coutingSem\")\n",
    "# plt.title(\"Couting Semaphore\")\n",
    "plt.plot(numT, binSem, 'r--', marker = 'o', label = \"binarySem\")\n",
    "plt.title(\"Binary Semaphore\")\n",
    "# plt.plot(numT, condVar, 'b-', marker = 'o', label = \"condVar\")\n",
    "# plt.title(\"Codintion Variable\")\n",
    "# plt.plot(numT, busyWait, 'b--', marker = 'o', label  =\"busyWait\")\n",
    "# plt.title(\"busyWait\")\n",
    "plt.xlabel(\"Number of threads\")\n",
    "plt.ylabel(\"Real Time(ms)\")\n",
    "plt.legend()\n",
    "plt.show()"
   ]
  },
  {
   "cell_type": "code",
   "execution_count": null,
   "metadata": {},
   "outputs": [],
   "source": []
  },
  {
   "cell_type": "markdown",
   "metadata": {},
   "source": [
    "---"
   ]
  },
  {
   "cell_type": "markdown",
   "metadata": {},
   "source": [
    "#### Per List LOCK"
   ]
  },
  {
   "cell_type": "code",
   "execution_count": 236,
   "metadata": {},
   "outputs": [],
   "source": [
    "x1 = []\n",
    "t = [1,2, 4, 8, 16, 20]"
   ]
  },
  {
   "cell_type": "code",
   "execution_count": 237,
   "metadata": {},
   "outputs": [
    {
     "name": "stdout",
     "output_type": "stream",
     "text": [
      "Avg =  4.498\n",
      "Max =  4.63\n",
      "min =  4.35\n"
     ]
    }
   ],
   "source": [
    "#threadCount = 1\n",
    "#80%member\n",
    "realTime = [4.51, 4.63, 4.35, 4.47, 4.53]\n",
    "print(\"Avg = \",np.mean(realTime))\n",
    "print(\"Max = \",np.max(realTime))\n",
    "print(\"min = \",np.min(realTime))\n",
    "x1.append(np.mean(realTime))"
   ]
  },
  {
   "cell_type": "code",
   "execution_count": 238,
   "metadata": {},
   "outputs": [
    {
     "name": "stdout",
     "output_type": "stream",
     "text": [
      "Avg =  5.098\n",
      "Max =  5.63\n",
      "min =  4.93\n"
     ]
    }
   ],
   "source": [
    "#threadCount = 2\n",
    "#80%member\n",
    "realTime = [4.96, 4.93, 5.02, 4.95, 5.63]\n",
    "print(\"Avg = \",np.mean(realTime))\n",
    "print(\"Max = \",np.max(realTime))\n",
    "print(\"min = \",np.min(realTime))\n",
    "x1.append(np.mean(realTime))"
   ]
  },
  {
   "cell_type": "code",
   "execution_count": 239,
   "metadata": {},
   "outputs": [
    {
     "name": "stdout",
     "output_type": "stream",
     "text": [
      "Avg =  5.091399999999999\n",
      "Max =  5.331\n",
      "min =  4.978\n"
     ]
    }
   ],
   "source": [
    "#threadCount = 4\n",
    "#80%member\n",
    "realTime = [5.076, 4.978, 5.005, 5.067, 5.331]\n",
    "print(\"Avg = \",np.mean(realTime))\n",
    "print(\"Max = \",np.max(realTime))\n",
    "print(\"min = \",np.min(realTime))\n",
    "x1.append(np.mean(realTime))"
   ]
  },
  {
   "cell_type": "code",
   "execution_count": null,
   "metadata": {},
   "outputs": [],
   "source": []
  },
  {
   "cell_type": "code",
   "execution_count": 240,
   "metadata": {},
   "outputs": [
    {
     "name": "stdout",
     "output_type": "stream",
     "text": [
      "Avg =  5.4398\n",
      "Max =  5.508\n",
      "min =  5.398\n"
     ]
    }
   ],
   "source": [
    "#threadCount = 8\n",
    "#80%member\n",
    "realTime = [5.421, 5.508, 5.398, 5.420, 5.452]\n",
    "print(\"Avg = \",np.mean(realTime))\n",
    "print(\"Max = \",np.max(realTime))\n",
    "print(\"min = \",np.min(realTime))\n",
    "x1.append(np.mean(realTime))"
   ]
  },
  {
   "cell_type": "code",
   "execution_count": 241,
   "metadata": {},
   "outputs": [
    {
     "name": "stdout",
     "output_type": "stream",
     "text": [
      "Avg =  6.5158000000000005\n",
      "Max =  6.73\n",
      "min =  6.324\n"
     ]
    }
   ],
   "source": [
    "#threadCount = 16\n",
    "#80%member\n",
    "realTime = [6.524, 6.73, 6.45, 6.324, 6.551]\n",
    "print(\"Avg = \",np.mean(realTime))\n",
    "print(\"Max = \",np.max(realTime))\n",
    "print(\"min = \",np.min(realTime))\n",
    "x1.append(np.mean(realTime))"
   ]
  },
  {
   "cell_type": "code",
   "execution_count": 242,
   "metadata": {},
   "outputs": [
    {
     "name": "stdout",
     "output_type": "stream",
     "text": [
      "Avg =  6.94\n",
      "Max =  6.99\n",
      "min =  6.87\n"
     ]
    }
   ],
   "source": [
    "#threadCount = 20\n",
    "#80%member\n",
    "realTime = [6.913, 6.870, 6.988, 6.939 , 6.990]\n",
    "print(\"Avg = \",np.mean(realTime))\n",
    "print(\"Max = \",np.max(realTime))\n",
    "print(\"min = \",np.min(realTime))\n",
    "x1.append(np.mean(realTime))"
   ]
  },
  {
   "cell_type": "code",
   "execution_count": 244,
   "metadata": {},
   "outputs": [
    {
     "data": {
      "text/plain": [
       "<matplotlib.legend.Legend at 0x7efeba44f128>"
      ]
     },
     "execution_count": 244,
     "metadata": {},
     "output_type": "execute_result"
    },
    {
     "data": {
      "image/png": "[encoded data removed]",
      "text/plain": [
       "<Figure size 432x288 with 1 Axes>"
      ]
     },
     "metadata": {
      "needs_background": "light"
     },
     "output_type": "display_data"
    }
   ],
   "source": [
    "plt.plot(t, x1, 'r-', marker = 'o', label = \"OneMutexForEntireList: Exp1\")\n",
    "plt.xlabel(\"num of thread\")\n",
    "plt.ylabel(\"real time(s)\")\n",
    "plt.title(\"OneMutexForEntireList: Exp1\")\n",
    "plt.legend()\n"
   ]
  },
  {
   "cell_type": "markdown",
   "metadata": {},
   "source": [
    "---"
   ]
  },
  {
   "cell_type": "code",
   "execution_count": 245,
   "metadata": {},
   "outputs": [],
   "source": [
    "y1 = []"
   ]
  },
  {
   "cell_type": "code",
   "execution_count": 246,
   "metadata": {},
   "outputs": [
    {
     "name": "stdout",
     "output_type": "stream",
     "text": [
      "Avg =  0.20060000000000003\n",
      "Max =  0.202\n",
      "min =  0.2\n"
     ]
    }
   ],
   "source": [
    "#threadCount = 1\n",
    "#99.9%member\n",
    "realTime = [0.202, 0.200, 0.200, 0.201, 0.200]\n",
    "print(\"Avg = \",np.mean(realTime))\n",
    "print(\"Max = \",np.max(realTime))\n",
    "print(\"min = \",np.min(realTime))\n",
    "y1.append(np.mean(realTime))"
   ]
  },
  {
   "cell_type": "code",
   "execution_count": 247,
   "metadata": {},
   "outputs": [
    {
     "name": "stdout",
     "output_type": "stream",
     "text": [
      "Avg =  0.3516\n",
      "Max =  0.365\n",
      "min =  0.342\n"
     ]
    }
   ],
   "source": [
    "#threadCount = 2\n",
    "#99.9%member\n",
    "realTime = [0.342, 0.346, 0.355, 0.365, 0.350]\n",
    "print(\"Avg = \",np.mean(realTime))\n",
    "print(\"Max = \",np.max(realTime))\n",
    "print(\"min = \",np.min(realTime))\n",
    "y1.append(np.mean(realTime))"
   ]
  },
  {
   "cell_type": "code",
   "execution_count": 248,
   "metadata": {},
   "outputs": [
    {
     "name": "stdout",
     "output_type": "stream",
     "text": [
      "Avg =  0.36251999999999995\n",
      "Max =  0.368\n",
      "min =  0.355\n"
     ]
    }
   ],
   "source": [
    "#threadCount = 4\n",
    "#99.9%member\n",
    "realTime = [0.368, 0.3644, 0.355, 0.3656, 0.3596]\n",
    "print(\"Avg = \",np.mean(realTime))\n",
    "print(\"Max = \",np.max(realTime))\n",
    "print(\"min = \",np.min(realTime))\n",
    "y1.append(np.mean(realTime))"
   ]
  },
  {
   "cell_type": "code",
   "execution_count": 249,
   "metadata": {},
   "outputs": [
    {
     "name": "stdout",
     "output_type": "stream",
     "text": [
      "Avg =  0.354\n",
      "Max =  0.358\n",
      "min =  0.35\n"
     ]
    }
   ],
   "source": [
    "#threadCount = 8\n",
    "#99.9%member\n",
    "realTime = [0.357, 0.358, 0.354, 0.350, 0.351]\n",
    "print(\"Avg = \",np.mean(realTime))\n",
    "print(\"Max = \",np.max(realTime))\n",
    "print(\"min = \",np.min(realTime))\n",
    "y1.append(np.mean(realTime))"
   ]
  },
  {
   "cell_type": "code",
   "execution_count": 250,
   "metadata": {},
   "outputs": [
    {
     "name": "stdout",
     "output_type": "stream",
     "text": [
      "Avg =  0.36079999999999995\n",
      "Max =  0.364\n",
      "min =  0.358\n"
     ]
    }
   ],
   "source": [
    "#threadCount = 16\n",
    "#99.9%member\n",
    "realTime = [0.361, 0.362, 0.358, 0.364, 0.359]\n",
    "print(\"Avg = \",np.mean(realTime))\n",
    "print(\"Max = \",np.max(realTime))\n",
    "print(\"min = \",np.min(realTime))\n",
    "y1.append(np.mean(realTime))"
   ]
  },
  {
   "cell_type": "code",
   "execution_count": 251,
   "metadata": {},
   "outputs": [
    {
     "name": "stdout",
     "output_type": "stream",
     "text": [
      "Avg =  0.362\n",
      "Max =  0.367\n",
      "min =  0.354\n"
     ]
    }
   ],
   "source": [
    "#threadCount = 20\n",
    "#99.9%member\n",
    "realTime = [0.365, 0.354, 0.366, 0.358, 0.367]\n",
    "print(\"Avg = \",np.mean(realTime))\n",
    "print(\"Max = \",np.max(realTime))\n",
    "print(\"min = \",np.min(realTime))\n",
    "y1.append(np.mean(realTime))"
   ]
  },
  {
   "cell_type": "code",
   "execution_count": 273,
   "metadata": {},
   "outputs": [
    {
     "data": {
      "text/plain": [
       "<matplotlib.legend.Legend at 0x7efeba189e80>"
      ]
     },
     "execution_count": 273,
     "metadata": {},
     "output_type": "execute_result"
    },
    {
     "data": {
      "image/png": "[encoded data removed]",
      "text/plain": [
       "<Figure size 432x288 with 1 Axes>"
      ]
     },
     "metadata": {
      "needs_background": "light"
     },
     "output_type": "display_data"
    }
   ],
   "source": [
    "plt.plot(t, y1, 'r--', marker = 'o', label = \"OneMutexForEntireList: Exp2\")\n",
    "plt.xlabel(\"num of thread\")\n",
    "plt.ylabel(\"real time(s)\")\n",
    "plt.title(\"OneMutexForEntireList: Exp2\")\n",
    "plt.legend()"
   ]
  },
  {
   "cell_type": "markdown",
   "metadata": {},
   "source": [
    "### READ-WRITE LOCK"
   ]
  },
  {
   "cell_type": "code",
   "execution_count": 256,
   "metadata": {},
   "outputs": [],
   "source": [
    "x2 = []"
   ]
  },
  {
   "cell_type": "code",
   "execution_count": 257,
   "metadata": {},
   "outputs": [
    {
     "name": "stdout",
     "output_type": "stream",
     "text": [
      "Avg =  4.5404\n",
      "Max =  4.656\n",
      "min =  4.46\n"
     ]
    }
   ],
   "source": [
    "#threadCount = 1\n",
    "#80%member\n",
    "realTime = [4.656, 4.46, 4.486, 4.53, 4.57]\n",
    "print(\"Avg = \",np.mean(realTime))\n",
    "print(\"Max = \",np.max(realTime))\n",
    "print(\"min = \",np.min(realTime))\n",
    "x2.append(np.mean(realTime))"
   ]
  },
  {
   "cell_type": "code",
   "execution_count": 258,
   "metadata": {},
   "outputs": [
    {
     "name": "stdout",
     "output_type": "stream",
     "text": [
      "Avg =  3.6479999999999997\n",
      "Max =  3.75\n",
      "min =  3.59\n"
     ]
    }
   ],
   "source": [
    "#threadCount = 2\n",
    "#80%member\n",
    "realTime = [3.65, 3.75, 3.61, 3.59, 3.64]\n",
    "print(\"Avg = \",np.mean(realTime))\n",
    "print(\"Max = \",np.max(realTime))\n",
    "print(\"min = \",np.min(realTime))\n",
    "x2.append(np.mean(realTime))"
   ]
  },
  {
   "cell_type": "code",
   "execution_count": 259,
   "metadata": {},
   "outputs": [
    {
     "name": "stdout",
     "output_type": "stream",
     "text": [
      "Avg =  3.9574\n",
      "Max =  4.08\n",
      "min =  3.871\n"
     ]
    }
   ],
   "source": [
    "#threadCount = 4\n",
    "#80%member\n",
    "realTime = [3.871, 4.01, 4.08, 3.91, 3.916]\n",
    "print(\"Avg = \",np.mean(realTime))\n",
    "print(\"Max = \",np.max(realTime))\n",
    "print(\"min = \",np.min(realTime))\n",
    "x2.append(np.mean(realTime))"
   ]
  },
  {
   "cell_type": "code",
   "execution_count": 260,
   "metadata": {},
   "outputs": [
    {
     "name": "stdout",
     "output_type": "stream",
     "text": [
      "Avg =  4.2216000000000005\n",
      "Max =  4.36\n",
      "min =  4.177\n"
     ]
    }
   ],
   "source": [
    "#threadCount = 8\n",
    "#80%member\n",
    "realTime = [4.211, 4.177, 4.18, 4.36, 4.18]\n",
    "print(\"Avg = \",np.mean(realTime))\n",
    "print(\"Max = \",np.max(realTime))\n",
    "print(\"min = \",np.min(realTime))\n",
    "x2.append(np.mean(realTime))"
   ]
  },
  {
   "cell_type": "code",
   "execution_count": 261,
   "metadata": {},
   "outputs": [
    {
     "name": "stdout",
     "output_type": "stream",
     "text": [
      "Avg =  5.066000000000001\n",
      "Max =  5.12\n",
      "min =  5.03\n"
     ]
    }
   ],
   "source": [
    "#threadCount = 16\n",
    "#80%member\n",
    "realTime = [5.05, 5.10, 5.12, 5.03, 5.03]\n",
    "print(\"Avg = \",np.mean(realTime))\n",
    "print(\"Max = \",np.max(realTime))\n",
    "print(\"min = \",np.min(realTime))\n",
    "x2.append(np.mean(realTime))"
   ]
  },
  {
   "cell_type": "code",
   "execution_count": 262,
   "metadata": {},
   "outputs": [
    {
     "name": "stdout",
     "output_type": "stream",
     "text": [
      "Avg =  5.417\n",
      "Max =  5.53\n",
      "min =  5.15\n"
     ]
    }
   ],
   "source": [
    "#threadCount = 20\n",
    "#80%member\n",
    "realTime = [5.15, 5.44, 5.488, 5.53, 5.477]\n",
    "print(\"Avg = \",np.mean(realTime))\n",
    "print(\"Max = \",np.max(realTime))\n",
    "print(\"min = \",np.min(realTime))\n",
    "x2.append(np.mean(realTime))"
   ]
  },
  {
   "cell_type": "code",
   "execution_count": 263,
   "metadata": {},
   "outputs": [
    {
     "data": {
      "text/plain": [
       "<matplotlib.legend.Legend at 0x7efeb9f56048>"
      ]
     },
     "execution_count": 263,
     "metadata": {},
     "output_type": "execute_result"
    },
    {
     "data": {
      "image/png": "[encoded data removed]",
      "text/plain": [
       "<Figure size 432x288 with 1 Axes>"
      ]
     },
     "metadata": {
      "needs_background": "light"
     },
     "output_type": "display_data"
    }
   ],
   "source": [
    "plt.plot(t, x2, 'b-', marker = 'o', label = \"Read-Write Lock: Exp1\")\n",
    "plt.xlabel(\"num of thread\")\n",
    "plt.ylabel(\"real time(s)\")\n",
    "plt.title(\"Read-Write Lock: Exp1\")\n",
    "plt.legend()"
   ]
  },
  {
   "cell_type": "markdown",
   "metadata": {},
   "source": [
    "---"
   ]
  },
  {
   "cell_type": "code",
   "execution_count": 283,
   "metadata": {},
   "outputs": [],
   "source": [
    "y2 = []"
   ]
  },
  {
   "cell_type": "code",
   "execution_count": 284,
   "metadata": {},
   "outputs": [
    {
     "name": "stdout",
     "output_type": "stream",
     "text": [
      "Avg =  0.19820000000000002\n",
      "Max =  0.2\n",
      "min =  0.197\n"
     ]
    }
   ],
   "source": [
    "#threadCount = 1\n",
    "#99.9%member\n",
    "realTime = [0.198, 0.197, 0.199, 0.200, 0.197]\n",
    "print(\"Avg = \",np.mean(realTime))\n",
    "print(\"Max = \",np.max(realTime))\n",
    "print(\"min = \",np.min(realTime))\n",
    "y2.append(np.mean(realTime))"
   ]
  },
  {
   "cell_type": "code",
   "execution_count": 285,
   "metadata": {},
   "outputs": [
    {
     "name": "stdout",
     "output_type": "stream",
     "text": [
      "Avg =  0.1096\n",
      "Max =  0.122\n",
      "min =  0.105\n"
     ]
    }
   ],
   "source": [
    "#threadCount = 2\n",
    "#99.9%member\n",
    "realTime = [0.106, 0.105, 0.108, 0.122, 0.107]\n",
    "print(\"Avg = \",np.mean(realTime))\n",
    "print(\"Max = \",np.max(realTime))\n",
    "print(\"min = \",np.min(realTime))\n",
    "y2.append(np.mean(realTime))"
   ]
  },
  {
   "cell_type": "code",
   "execution_count": 286,
   "metadata": {},
   "outputs": [
    {
     "name": "stdout",
     "output_type": "stream",
     "text": [
      "Avg =  0.07597999999999999\n",
      "Max =  0.0799\n",
      "min =  0.074\n"
     ]
    }
   ],
   "source": [
    "#threadCount = 4\n",
    "#99.9%member\n",
    "realTime = [0.075, 0.075, 0.074, 0.0799, 0.076]\n",
    "print(\"Avg = \",np.mean(realTime))\n",
    "print(\"Max = \",np.max(realTime))\n",
    "print(\"min = \",np.min(realTime))\n",
    "y2.append(np.mean(realTime))"
   ]
  },
  {
   "cell_type": "code",
   "execution_count": 287,
   "metadata": {},
   "outputs": [
    {
     "name": "stdout",
     "output_type": "stream",
     "text": [
      "Avg =  0.07558000000000001\n",
      "Max =  0.0766\n",
      "min =  0.0744\n"
     ]
    }
   ],
   "source": [
    "#threadCount = 8\n",
    "#99.9%member\n",
    "realTime = [0.0757, 0.0762, 0.0766, 0.0750, 0.0744]\n",
    "print(\"Avg = \",np.mean(realTime))\n",
    "print(\"Max = \",np.max(realTime))\n",
    "print(\"min = \",np.min(realTime))\n",
    "y2.append(np.mean(realTime))"
   ]
  },
  {
   "cell_type": "code",
   "execution_count": 288,
   "metadata": {},
   "outputs": [
    {
     "name": "stdout",
     "output_type": "stream",
     "text": [
      "Avg =  0.07484\n",
      "Max =  0.078\n",
      "min =  0.073\n"
     ]
    }
   ],
   "source": [
    "#threadCount = 16\n",
    "#99.9%member\n",
    "realTime = [0.073, 0.0732, 0.075, 0.078, 0.075]\n",
    "print(\"Avg = \",np.mean(realTime))\n",
    "print(\"Max = \",np.max(realTime))\n",
    "print(\"min = \",np.min(realTime))\n",
    "y2.append(np.mean(realTime))"
   ]
  },
  {
   "cell_type": "code",
   "execution_count": 289,
   "metadata": {},
   "outputs": [
    {
     "name": "stdout",
     "output_type": "stream",
     "text": [
      "Avg =  0.07206\n",
      "Max =  0.076\n",
      "min =  0.068\n"
     ]
    }
   ],
   "source": [
    "#threadCount = 20\n",
    "#99.9%member\n",
    "realTime = [0.074, 0.0705, 0.076, 0.0718, 0.068]\n",
    "print(\"Avg = \",np.mean(realTime))\n",
    "print(\"Max = \",np.max(realTime))\n",
    "print(\"min = \",np.min(realTime))\n",
    "y2.append(np.mean(realTime))"
   ]
  },
  {
   "cell_type": "code",
   "execution_count": 290,
   "metadata": {},
   "outputs": [
    {
     "data": {
      "text/plain": [
       "<matplotlib.legend.Legend at 0x7efeba03ec88>"
      ]
     },
     "execution_count": 290,
     "metadata": {},
     "output_type": "execute_result"
    },
    {
     "data": {
      "image/png": "[encoded data removed]",
      "text/plain": [
       "<Figure size 432x288 with 1 Axes>"
      ]
     },
     "metadata": {
      "needs_background": "light"
     },
     "output_type": "display_data"
    }
   ],
   "source": [
    "plt.plot(t, y2, 'b--', marker = 'o', label = \"Read-Write Lock: Exp2\")\n",
    "plt.xlabel(\"num of thread\")\n",
    "plt.ylabel(\"real time(s)\")\n",
    "plt.title(\"Read-Write Lock: Exp2\")\n",
    "plt.legend()"
   ]
  },
  {
   "cell_type": "markdown",
   "metadata": {},
   "source": [
    "### REadwrite exp1 + exp2"
   ]
  },
  {
   "cell_type": "code",
   "execution_count": 294,
   "metadata": {},
   "outputs": [
    {
     "data": {
      "text/plain": [
       "Text(0.5,1,'Read-WriteLock: exp1_2')"
      ]
     },
     "execution_count": 294,
     "metadata": {},
     "output_type": "execute_result"
    },
    {
     "data": {
      "image/png": "[encoded data removed]",
      "text/plain": [
       "<Figure size 432x288 with 1 Axes>"
      ]
     },
     "metadata": {
      "needs_background": "light"
     },
     "output_type": "display_data"
    }
   ],
   "source": [
    "plt.plot(t, y2, 'b--', marker = 'o', label = \"Read-Write Lock: Exp2\")\n",
    "plt.plot(t, x2, 'b-', marker = 'o', label = \"Read-Write Lock: Exp1\")\n",
    "plt.xlabel(\"num of thread\")\n",
    "plt.ylabel(\"real time(s)\")\n",
    "plt.legend()\n",
    "plt.title(\"Read-WriteLock: exp1_2\")"
   ]
  },
  {
   "cell_type": "code",
   "execution_count": 292,
   "metadata": {},
   "outputs": [
    {
     "data": {
      "text/plain": [
       "Text(0,0.5,'real time(s)')"
      ]
     },
     "execution_count": 292,
     "metadata": {},
     "output_type": "execute_result"
    },
    {
     "data": {
      "image/png": "[encoded data removed]",
      "text/plain": [
       "<Figure size 864x504 with 1 Axes>"
      ]
     },
     "metadata": {
      "needs_background": "light"
     },
     "output_type": "display_data"
    }
   ],
   "source": [
    "plt.figure(figsize=(12, 7))\n",
    "plt.plot(t, y2, 'b--', marker = 'o', label = \"Read-Write Lock: Exp2\")\n",
    "plt.plot(t, x2, 'b-', marker = 'o', label = \"Read-Write Lock: Exp1\")\n",
    "plt.plot(t, y1, 'r--', marker = 'o', label = \"OneMutexForEntireList: Exp2\")\n",
    "plt.plot(t, x1, 'r-', marker = 'o', label = \"OneMutexForEntireList: Exp1\")\n",
    "# tmp = list(set(x1) | set(x2) | set(y1) | set(y2))\n",
    "plt.legend()\n",
    "plt.yticks(tmp)\n",
    "plt.xlabel(\"num of thread\")\n",
    "plt.ylabel(\"real time(s)\")"
   ]
  },
  {
   "cell_type": "code",
   "execution_count": 298,
   "metadata": {},
   "outputs": [
    {
     "data": {
      "text/plain": [
       "Text(0.5,1,'Exp2: OneMutex vs Read-Write lock')"
      ]
     },
     "execution_count": 298,
     "metadata": {},
     "output_type": "execute_result"
    },
    {
     "data": {
      "image/png": "[encoded data removed]",
      "text/plain": [
       "<Figure size 432x288 with 1 Axes>"
      ]
     },
     "metadata": {
      "needs_background": "light"
     },
     "output_type": "display_data"
    }
   ],
   "source": [
    "plt.plot(t, y1, 'r--', marker = 'o', label = \"OneMutexForEntireList: Exp2\")\n",
    "plt.plot(t, y2, 'b--', marker = 'o', label = \"ReadWrite: Exp2\")\n",
    "plt.xlabel(\"num of thread\")\n",
    "plt.ylabel(\"real time(s)\")\n",
    "plt.legend()\n",
    "plt.title(\"Exp2: OneMutex vs Read-Write lock\")"
   ]
  },
  {
   "cell_type": "code",
   "execution_count": 299,
   "metadata": {},
   "outputs": [
    {
     "data": {
      "text/plain": [
       "Text(0.5,1,'Exp1: OneMutex vs Read-Write lock')"
      ]
     },
     "execution_count": 299,
     "metadata": {},
     "output_type": "execute_result"
    },
    {
     "data": {
      "image/png": "[encoded data removed]",
      "text/plain": [
       "<Figure size 432x288 with 1 Axes>"
      ]
     },
     "metadata": {
      "needs_background": "light"
     },
     "output_type": "display_data"
    }
   ],
   "source": [
    "plt.plot(t, x1, 'r-', marker = 'o', label = \"OneMutexForEntireList: Exp1\")\n",
    "plt.plot(t, x2, 'b-', marker = 'o', label = \"ReadWrite: Exp1\")\n",
    "plt.xlabel(\"num of thread\")\n",
    "plt.ylabel(\"real time(s)\")\n",
    "plt.legend()\n",
    "plt.title(\"Exp1: OneMutex vs Read-Write lock\")"
   ]
  }
 ],
 "metadata": {
  "kernelspec": {
   "display_name": "Python 3",
   "language": "python",
   "name": "python3"
  },
  "language_info": {
   "codemirror_mode": {
    "name": "ipython",
    "version": 3
   },
   "file_extension": ".py",
   "mimetype": "text/x-python",
   "name": "python",
   "nbconvert_exporter": "python",
   "pygments_lexer": "ipython3",
   "version": "3.6.8"
  }
 },
 "nbformat": 4,
 "nbformat_minor": 2
}
