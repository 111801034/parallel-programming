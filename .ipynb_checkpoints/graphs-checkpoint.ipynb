{
 "cells": [
  {
   "cell_type": "code",
   "execution_count": 2,
   "metadata": {},
   "outputs": [],
   "source": [
    "import numpy as np\n",
    "import matplotlib.pyplot as plt\n",
    "import pandas as pd"
   ]
  },
  {
   "cell_type": "markdown",
   "metadata": {},
   "source": [
    "### threadStartUpOverhead"
   ]
  },
  {
   "cell_type": "code",
   "execution_count": 6,
   "metadata": {
    "scrolled": true
   },
   "outputs": [
    {
     "name": "stdout",
     "output_type": "stream",
     "text": [
      "Average Thread StartUp Real Time =  5.666666666666667 ms\n"
     ]
    }
   ],
   "source": [
    "realTime = [7, 6, 5, 5, 6, 5]\n",
    "print(\"Average Thread StartUp Real Time = \", np.mean(realTime), \"ms\")"
   ]
  },
  {
   "cell_type": "markdown",
   "metadata": {},
   "source": [
    "### Global Sum using busy wait 1:"
   ]
  },
  {
   "cell_type": "code",
   "execution_count": 37,
   "metadata": {},
   "outputs": [
    {
     "name": "stdout",
     "output_type": "stream",
     "text": [
      "Average Time Taken =  1.14712 s\n",
      "Max Time Taken =  1.16559 s\n",
      "Min Time Taken =  1.1376 s\n"
     ]
    }
   ],
   "source": [
    "# threadCount = 1\n",
    "# Calculation Per Thread = 1e8\n",
    "timeTaken = [1.13964, 1.1376, 1.14885, 1.14102, 1.1387, 1.14915, 1.16559, 1.15641]\n",
    "print(\"Average Time Taken = \", np.mean(timeTaken), \"s\")\n",
    "print(\"Max Time Taken = \", np.max(timeTaken), \"s\")\n",
    "print(\"Min Time Taken = \", np.min(timeTaken), \"s\")"
   ]
  },
  {
   "cell_type": "code",
   "execution_count": 39,
   "metadata": {},
   "outputs": [
    {
     "name": "stdout",
     "output_type": "stream",
     "text": [
      "Average Real Time Taken =  13.407671428571428 s\n",
      "Max Real Time Taken =  13.6741 s\n",
      "Min Time Taken =  12.9383 s\n",
      "Average User Time Taken =  26.798714285714286 s\n"
     ]
    }
   ],
   "source": [
    "#threadCount = 2\n",
    "#Calculation Per Thread = 1e8\n",
    "chrono = [13.4263, 13.6741, 13.135, 13.6202, 13.4461, 13.6137, 12.9383]\n",
    "user = [26.838, 27.316, 26.265, 27.207, 26.876, 27.212, 25.877]\n",
    "print(\"Average Real Time Taken = \", np.mean(chrono), \"s\")\n",
    "print(\"Max Real Time Taken = \", np.max(chrono), \"s\")\n",
    "print(\"Min Time Taken = \", np.min(chrono), \"s\")\n",
    "print(\"Average User Time Taken = \", np.mean(user), \"s\")"
   ]
  },
  {
   "cell_type": "code",
   "execution_count": 40,
   "metadata": {},
   "outputs": [
    {
     "name": "stdout",
     "output_type": "stream",
     "text": [
      "Average Real Time Taken =  6.82484875 s\n",
      "Max Real Time Taken =  7.12 s\n",
      "Min Time Taken =  6.4762 s\n",
      "Average User Time Taken =  13.646125 s\n"
     ]
    }
   ],
   "source": [
    "#threadCount = 2\n",
    "#Calculation per Thread = .5e8\n",
    "chrono = [6.49049, 6.77273, 7.01247, 6.9297, 6.815, 6.4762, 7.120, 6.9822]\n",
    "user = [12.981, 13.541, 14.014, 13.857, 13.622, 12.959, 14.230, 13.965]\n",
    "print(\"Average Real Time Taken = \", np.mean(chrono), \"s\")\n",
    "print(\"Max Real Time Taken = \", np.max(chrono), \"s\")\n",
    "print(\"Min Time Taken = \", np.min(chrono), \"s\")\n",
    "print(\"Average User Time Taken = \", np.mean(user), \"s\")"
   ]
  },
  {
   "cell_type": "code",
   "execution_count": 41,
   "metadata": {},
   "outputs": [
    {
     "name": "stdout",
     "output_type": "stream",
     "text": [
      "Average Real Time Taken =  6.4130675 s\n",
      "Max Real Time Taken =  6.631 s\n",
      "Min Time Taken =  6.055 s\n",
      "Average User Time Taken =  19.23075 s\n"
     ]
    }
   ],
   "source": [
    "#threadCount = 3\n",
    "#calculation per thread = 33333333\n",
    "chrono = [6.622, 6.250, 6.055, 6.381, 6.20944, 6.631, 6.6001, 6.556]\n",
    "user = [19.843, 18.743, 18.161, 19.144, 18.620, 19.866, 19.799, 19.670]\n",
    "print(\"Average Real Time Taken = \", np.mean(chrono), \"s\")\n",
    "print(\"Max Real Time Taken = \", np.max(chrono), \"s\")\n",
    "print(\"Min Time Taken = \", np.min(chrono), \"s\")\n",
    "print(\"Average User Time Taken = \", np.mean(user), \"s\")"
   ]
  },
  {
   "cell_type": "code",
   "execution_count": 42,
   "metadata": {},
   "outputs": [
    {
     "name": "stdout",
     "output_type": "stream",
     "text": [
      "Average Real Time Taken =  6.9164449999999995 s\n",
      "Max Real Time Taken =  8.175 s\n",
      "Min Time Taken =  6.0452 s\n",
      "Average User Time Taken =  27.039625 s\n"
     ]
    }
   ],
   "source": [
    "#threadCount = 4\n",
    "#calculation per thread = 25000000\n",
    "chrono = [6.58554, 6.0452, 6.19662, 7.891, 6.361, 7.8987, 8.175, 6.1785]\n",
    "user = [25.560, 23.896, 24.246, 30.824, 24.873, 30.862, 31.433, 24.623]\n",
    "print(\"Average Real Time Taken = \", np.mean(chrono), \"s\")\n",
    "print(\"Max Real Time Taken = \", np.max(chrono), \"s\")\n",
    "print(\"Min Time Taken = \", np.min(chrono), \"s\")\n",
    "print(\"Average User Time Taken = \", np.mean(user), \"s\")"
   ]
  },
  {
   "cell_type": "code",
   "execution_count": null,
   "metadata": {},
   "outputs": [],
   "source": [
    "#threadCount = 5\n",
    "#calculation per thread = 20000000\n",
    "chrono = []\n",
    "user = []\n",
    "#Did not complete in 3 hrs"
   ]
  },
  {
   "cell_type": "markdown",
   "metadata": {},
   "source": [
    "### Global Sum Using Mutex1"
   ]
  },
  {
   "cell_type": "code",
   "execution_count": 43,
   "metadata": {},
   "outputs": [
    {
     "name": "stdout",
     "output_type": "stream",
     "text": [
      "Average Real Time Taken =  2.0680642857142857 s\n",
      "Max Real Time Taken =  2.13716 s\n",
      "Min Time Taken =  1.9801 s\n",
      "Average User Time Taken =  2.0677142857142856 s\n"
     ]
    }
   ],
   "source": [
    "# threadCount = 1\n",
    "# Calculation Per Thread = 1e8\n",
    "chrono = [2.10614, 2.0068, 2.09925, 2.13716,  2.104, 1.9801, 2.043]\n",
    "user = [2.105, 2.006, 2.094, 2.142, 2.097, 1.985, 2.045]\n",
    "print(\"Average Real Time Taken = \", np.mean(chrono), \"s\")\n",
    "print(\"Max Real Time Taken = \", np.max(chrono), \"s\")\n",
    "print(\"Min Time Taken = \", np.min(chrono), \"s\")\n",
    "print(\"Average User Time Taken = \", np.mean(user), \"s\")"
   ]
  },
  {
   "cell_type": "code",
   "execution_count": 44,
   "metadata": {
    "collapsed": true
   },
   "outputs": [
    {
     "name": "stdout",
     "output_type": "stream",
     "text": [
      "Average Real Time Taken =  nan s\n"
     ]
    },
    {
     "name": "stderr",
     "output_type": "stream",
     "text": [
      "/home/amit/Documents/installation/anaconda3/lib/python3.6/site-packages/numpy/core/fromnumeric.py:2920: RuntimeWarning: Mean of empty slice.\n",
      "  out=out, **kwargs)\n",
      "/home/amit/Documents/installation/anaconda3/lib/python3.6/site-packages/numpy/core/_methods.py:85: RuntimeWarning: invalid value encountered in double_scalars\n",
      "  ret = ret.dtype.type(ret / rcount)\n"
     ]
    },
    {
     "ename": "ValueError",
     "evalue": "zero-size array to reduction operation maximum which has no identity",
     "output_type": "error",
     "traceback": [
      "\u001b[0;31m---------------------------------------------------------------------------\u001b[0m",
      "\u001b[0;31mValueError\u001b[0m                                Traceback (most recent call last)",
      "\u001b[0;32m<ipython-input-44-d799aa6615ef>\u001b[0m in \u001b[0;36m<module>\u001b[0;34m\u001b[0m\n\u001b[1;32m      4\u001b[0m \u001b[0muser\u001b[0m \u001b[0;34m=\u001b[0m \u001b[0;34m[\u001b[0m\u001b[0;34m]\u001b[0m\u001b[0;34m\u001b[0m\u001b[0;34m\u001b[0m\u001b[0m\n\u001b[1;32m      5\u001b[0m \u001b[0mprint\u001b[0m\u001b[0;34m(\u001b[0m\u001b[0;34m\"Average Real Time Taken = \"\u001b[0m\u001b[0;34m,\u001b[0m \u001b[0mnp\u001b[0m\u001b[0;34m.\u001b[0m\u001b[0mmean\u001b[0m\u001b[0;34m(\u001b[0m\u001b[0mchrono\u001b[0m\u001b[0;34m)\u001b[0m\u001b[0;34m,\u001b[0m \u001b[0;34m\"s\"\u001b[0m\u001b[0;34m)\u001b[0m\u001b[0;34m\u001b[0m\u001b[0;34m\u001b[0m\u001b[0m\n\u001b[0;32m----> 6\u001b[0;31m \u001b[0mprint\u001b[0m\u001b[0;34m(\u001b[0m\u001b[0;34m\"Max Real Time Taken = \"\u001b[0m\u001b[0;34m,\u001b[0m \u001b[0mnp\u001b[0m\u001b[0;34m.\u001b[0m\u001b[0mmax\u001b[0m\u001b[0;34m(\u001b[0m\u001b[0mchrono\u001b[0m\u001b[0;34m)\u001b[0m\u001b[0;34m,\u001b[0m \u001b[0;34m\"s\"\u001b[0m\u001b[0;34m)\u001b[0m\u001b[0;34m\u001b[0m\u001b[0;34m\u001b[0m\u001b[0m\n\u001b[0m\u001b[1;32m      7\u001b[0m \u001b[0mprint\u001b[0m\u001b[0;34m(\u001b[0m\u001b[0;34m\"Min Time Taken = \"\u001b[0m\u001b[0;34m,\u001b[0m \u001b[0mnp\u001b[0m\u001b[0;34m.\u001b[0m\u001b[0mmin\u001b[0m\u001b[0;34m(\u001b[0m\u001b[0mchrono\u001b[0m\u001b[0;34m)\u001b[0m\u001b[0;34m,\u001b[0m \u001b[0;34m\"s\"\u001b[0m\u001b[0;34m)\u001b[0m\u001b[0;34m\u001b[0m\u001b[0;34m\u001b[0m\u001b[0m\n\u001b[1;32m      8\u001b[0m \u001b[0mprint\u001b[0m\u001b[0;34m(\u001b[0m\u001b[0;34m\"Average User Time Taken = \"\u001b[0m\u001b[0;34m,\u001b[0m \u001b[0mnp\u001b[0m\u001b[0;34m.\u001b[0m\u001b[0mmean\u001b[0m\u001b[0;34m(\u001b[0m\u001b[0muser\u001b[0m\u001b[0;34m)\u001b[0m\u001b[0;34m,\u001b[0m \u001b[0;34m\"s\"\u001b[0m\u001b[0;34m)\u001b[0m\u001b[0;34m\u001b[0m\u001b[0;34m\u001b[0m\u001b[0m\n",
      "\u001b[0;32m~/Documents/installation/anaconda3/lib/python3.6/site-packages/numpy/core/fromnumeric.py\u001b[0m in \u001b[0;36mamax\u001b[0;34m(a, axis, out, keepdims, initial)\u001b[0m\n\u001b[1;32m   2332\u001b[0m     \"\"\"\n\u001b[1;32m   2333\u001b[0m     return _wrapreduction(a, np.maximum, 'max', axis, None, out, keepdims=keepdims,\n\u001b[0;32m-> 2334\u001b[0;31m                           initial=initial)\n\u001b[0m\u001b[1;32m   2335\u001b[0m \u001b[0;34m\u001b[0m\u001b[0m\n\u001b[1;32m   2336\u001b[0m \u001b[0;34m\u001b[0m\u001b[0m\n",
      "\u001b[0;32m~/Documents/installation/anaconda3/lib/python3.6/site-packages/numpy/core/fromnumeric.py\u001b[0m in \u001b[0;36m_wrapreduction\u001b[0;34m(obj, ufunc, method, axis, dtype, out, **kwargs)\u001b[0m\n\u001b[1;32m     81\u001b[0m                 \u001b[0;32mreturn\u001b[0m \u001b[0mreduction\u001b[0m\u001b[0;34m(\u001b[0m\u001b[0maxis\u001b[0m\u001b[0;34m=\u001b[0m\u001b[0maxis\u001b[0m\u001b[0;34m,\u001b[0m \u001b[0mout\u001b[0m\u001b[0;34m=\u001b[0m\u001b[0mout\u001b[0m\u001b[0;34m,\u001b[0m \u001b[0;34m**\u001b[0m\u001b[0mpasskwargs\u001b[0m\u001b[0;34m)\u001b[0m\u001b[0;34m\u001b[0m\u001b[0;34m\u001b[0m\u001b[0m\n\u001b[1;32m     82\u001b[0m \u001b[0;34m\u001b[0m\u001b[0m\n\u001b[0;32m---> 83\u001b[0;31m     \u001b[0;32mreturn\u001b[0m \u001b[0mufunc\u001b[0m\u001b[0;34m.\u001b[0m\u001b[0mreduce\u001b[0m\u001b[0;34m(\u001b[0m\u001b[0mobj\u001b[0m\u001b[0;34m,\u001b[0m \u001b[0maxis\u001b[0m\u001b[0;34m,\u001b[0m \u001b[0mdtype\u001b[0m\u001b[0;34m,\u001b[0m \u001b[0mout\u001b[0m\u001b[0;34m,\u001b[0m \u001b[0;34m**\u001b[0m\u001b[0mpasskwargs\u001b[0m\u001b[0;34m)\u001b[0m\u001b[0;34m\u001b[0m\u001b[0;34m\u001b[0m\u001b[0m\n\u001b[0m\u001b[1;32m     84\u001b[0m \u001b[0;34m\u001b[0m\u001b[0m\n\u001b[1;32m     85\u001b[0m \u001b[0;34m\u001b[0m\u001b[0m\n",
      "\u001b[0;31mValueError\u001b[0m: zero-size array to reduction operation maximum which has no identity"
     ]
    }
   ],
   "source": [
    "#threadCount = 2\n",
    "#Calculation Per Thread = 1e8\n",
    "chrono = []\n",
    "user = []\n",
    "print(\"Average Real Time Taken = \", np.mean(chrono), \"s\")\n",
    "print(\"Max Real Time Taken = \", np.max(chrono), \"s\")\n",
    "print(\"Min Time Taken = \", np.min(chrono), \"s\")\n",
    "print(\"Average User Time Taken = \", np.mean(user), \"s\")"
   ]
  },
  {
   "cell_type": "code",
   "execution_count": 45,
   "metadata": {},
   "outputs": [
    {
     "name": "stdout",
     "output_type": "stream",
     "text": [
      "Average Real Time Taken =  9.78981 s\n",
      "Max Real Time Taken =  13.7073 s\n",
      "Min Time Taken =  7.82171 s\n",
      "Average User Time Taken =  10.417999999999997 s\n"
     ]
    }
   ],
   "source": [
    "#threadCount = 2\n",
    "#Calculation per Thread = .5e8\n",
    "chrono = [8.22946, 8.453, 13.7073, 10.9247, 8.5225, 10.870, 7.82171]\n",
    "user = [8.229, 9.386, 14.403, 11.939, 9.230, 11.529, 8.210]\n",
    "print(\"Average Real Time Taken = \", np.mean(chrono), \"s\")\n",
    "print(\"Max Real Time Taken = \", np.max(chrono), \"s\")\n",
    "print(\"Min Time Taken = \", np.min(chrono), \"s\")\n",
    "print(\"Average User Time Taken = \", np.mean(user), \"s\")"
   ]
  },
  {
   "cell_type": "code",
   "execution_count": 46,
   "metadata": {},
   "outputs": [
    {
     "name": "stdout",
     "output_type": "stream",
     "text": [
      "Average Real Time Taken =  9.18902857142857 s\n",
      "Max Real Time Taken =  9.878 s\n",
      "Min Time Taken =  7.434 s\n",
      "Average User Time Taken =  11.839285714285717 s\n"
     ]
    }
   ],
   "source": [
    "#threadCount = 3\n",
    "#calculation per thread = 33333333\n",
    "chrono = [9.878, 7.434, 9.451, 9.799, 9.260, 9.119, 9.3822]\n",
    "user = [12.529, 9.736, 12.241, 12.295, 11.849, 12.096, 12.129]\n",
    "print(\"Average Real Time Taken = \", np.mean(chrono), \"s\")\n",
    "print(\"Max Real Time Taken = \", np.max(chrono), \"s\")\n",
    "print(\"Min Time Taken = \", np.min(chrono), \"s\")\n",
    "print(\"Average User Time Taken = \", np.mean(user), \"s\")"
   ]
  },
  {
   "cell_type": "code",
   "execution_count": 47,
   "metadata": {},
   "outputs": [
    {
     "name": "stdout",
     "output_type": "stream",
     "text": [
      "Average Real Time Taken =  10.120542857142855 s\n",
      "Max Real Time Taken =  10.8375 s\n",
      "Min Time Taken =  8.7542 s\n",
      "Average User Time Taken =  14.425142857142857 s\n"
     ]
    }
   ],
   "source": [
    "#threadCount = 4\n",
    "#calculation per thread = 25000000\n",
    "chrono = [8.7542, 10.6717, 10.5723, 10.6881, 10.8375, 10.467, 8.853]\n",
    "user = [12.108, 15.179, 14.998, 15.393, 15.500, 15.344, 12.454]\n",
    "print(\"Average Real Time Taken = \", np.mean(chrono), \"s\")\n",
    "print(\"Max Real Time Taken = \", np.max(chrono), \"s\")\n",
    "print(\"Min Time Taken = \", np.min(chrono), \"s\")\n",
    "print(\"Average User Time Taken = \", np.mean(user), \"s\")"
   ]
  },
  {
   "cell_type": "code",
   "execution_count": 48,
   "metadata": {},
   "outputs": [
    {
     "name": "stdout",
     "output_type": "stream",
     "text": [
      "Average Real Time Taken =  9.950042857142858 s\n",
      "Max Real Time Taken =  10.703 s\n",
      "Min Time Taken =  9.012 s\n",
      "Average User Time Taken =  13.901571428571428 s\n"
     ]
    }
   ],
   "source": [
    "#threadCount = 5\n",
    "#calculation per thread = 20000000\n",
    "chrono = [9.157, 9.1386, 10.701, 10.3674, 10.5713, 9.012, 10.703]\n",
    "user = [12.215, 12.424, 15.099, 14.794, 15.283, 12.282, 15.214]\n",
    "print(\"Average Real Time Taken = \", np.mean(chrono), \"s\")\n",
    "print(\"Max Real Time Taken = \", np.max(chrono), \"s\")\n",
    "print(\"Min Time Taken = \", np.min(chrono), \"s\")\n",
    "print(\"Average User Time Taken = \", np.mean(user), \"s\")"
   ]
  },
  {
   "cell_type": "code",
   "execution_count": 49,
   "metadata": {},
   "outputs": [
    {
     "name": "stdout",
     "output_type": "stream",
     "text": [
      "Average Real Time Taken =  10.142705714285714 s\n",
      "Max Real Time Taken =  11.071 s\n",
      "Min Time Taken =  9.287 s\n",
      "Average User Time Taken =  13.89357142857143 s\n"
     ]
    }
   ],
   "source": [
    "#threadCount = 10\n",
    "#calculation per thread = 10000000\n",
    "chrono = [9.287, 11.0326, 11.061, 9.6471, 11.071, 9.43864, 9.4616]\n",
    "user = [12.422, 15.765, 15.290, 13.010, 15.754, 12.626, 12.388]\n",
    "print(\"Average Real Time Taken = \", np.mean(chrono), \"s\")\n",
    "print(\"Max Real Time Taken = \", np.max(chrono), \"s\")\n",
    "print(\"Min Time Taken = \", np.min(chrono), \"s\")\n",
    "print(\"Average User Time Taken = \", np.mean(user), \"s\")"
   ]
  },
  {
   "cell_type": "markdown",
   "metadata": {},
   "source": [
    "### Global Sum using busy_wait2"
   ]
  },
  {
   "cell_type": "code",
   "execution_count": 50,
   "metadata": {},
   "outputs": [
    {
     "name": "stdout",
     "output_type": "stream",
     "text": [
      "Average Real Time Taken =  0.3285944285714285 s\n",
      "Max Real Time Taken =  0.334 s\n",
      "Min Time Taken =  0.3054 s\n",
      "Average User Time Taken =  0.3315714285714286 s\n"
     ]
    }
   ],
   "source": [
    "#threadCount = 1\n",
    "#calculation per thread = 10000000\n",
    "chrono = [0.3318, 0.334, 0.329761, 0.333, 0.333, 0.3332, 0.3054]\n",
    "user = [0.338, 0.34, 0.33, 0.336, 0.335, 0.335, 0.307]\n",
    "print(\"Average Real Time Taken = \", np.mean(chrono), \"s\")\n",
    "print(\"Max Real Time Taken = \", np.max(chrono), \"s\")\n",
    "print(\"Min Time Taken = \", np.min(chrono), \"s\")\n",
    "print(\"Average User Time Taken = \", np.mean(user), \"s\")"
   ]
  },
  {
   "cell_type": "code",
   "execution_count": 51,
   "metadata": {},
   "outputs": [
    {
     "name": "stdout",
     "output_type": "stream",
     "text": [
      "Average Real Time Taken =  0.17852571428571423 s\n",
      "Max Real Time Taken =  0.1835 s\n",
      "Min Time Taken =  0.1599 s\n",
      "Average User Time Taken =  0.3587142857142857 s\n"
     ]
    }
   ],
   "source": [
    "#threadCount = 2\n",
    "#calculation per thread = 5000000\n",
    "chrono = [0.182, 0.1819, 0.177, 0.1835, 0.182, 0.1599, 0.18338, ]\n",
    "user = [0.370, 0.362, 0.361, 0.362, 0.369, 0.319, 0.368, ]\n",
    "print(\"Average Real Time Taken = \", np.mean(chrono), \"s\")\n",
    "print(\"Max Real Time Taken = \", np.max(chrono), \"s\")\n",
    "print(\"Min Time Taken = \", np.min(chrono), \"s\")\n",
    "print(\"Average User Time Taken = \", np.mean(user), \"s\")"
   ]
  },
  {
   "cell_type": "code",
   "execution_count": 52,
   "metadata": {},
   "outputs": [
    {
     "name": "stdout",
     "output_type": "stream",
     "text": [
      "Average Real Time Taken =  0.17107142857142857 s\n",
      "Max Real Time Taken =  0.181 s\n",
      "Min Time Taken =  0.159 s\n",
      "Average User Time Taken =  0.4771428571428572 s\n"
     ]
    }
   ],
   "source": [
    "#threadCount = 3\n",
    "#calculation per thread = 33333333\n",
    "chrono = [0.1713, 0.159, 0.162, 0.1772, 0.179, 0.168, 0.181]\n",
    "user = [0.492, 0.443, 0.486, 0.485, 0.494, 0.461, 0.479]\n",
    "print(\"Average Real Time Taken = \", np.mean(chrono), \"s\")\n",
    "print(\"Max Real Time Taken = \", np.max(chrono), \"s\")\n",
    "print(\"Min Time Taken = \", np.min(chrono), \"s\")\n",
    "print(\"Average User Time Taken = \", np.mean(user), \"s\")"
   ]
  },
  {
   "cell_type": "code",
   "execution_count": 53,
   "metadata": {},
   "outputs": [
    {
     "name": "stdout",
     "output_type": "stream",
     "text": [
      "Average Real Time Taken =  0.13641 s\n",
      "Max Real Time Taken =  0.149 s\n",
      "Min Time Taken =  0.123 s\n",
      "Average User Time Taken =  0.49057142857142855 s\n"
     ]
    }
   ],
   "source": [
    "#threadCount = 4\n",
    "#calculation per thread = 25000000\n",
    "chrono = [0.13987, 0.142, 0.132, 0.149, 0.140, 0.123, 0.129]\n",
    "user = [0.508, 0.511, 0.466, 0.527, 0.505, 0.453, 0.464]\n",
    "print(\"Average Real Time Taken = \", np.mean(chrono), \"s\")\n",
    "print(\"Max Real Time Taken = \", np.max(chrono), \"s\")\n",
    "print(\"Min Time Taken = \", np.min(chrono), \"s\")\n",
    "print(\"Average User Time Taken = \", np.mean(user), \"s\")"
   ]
  },
  {
   "cell_type": "code",
   "execution_count": 54,
   "metadata": {},
   "outputs": [
    {
     "name": "stdout",
     "output_type": "stream",
     "text": [
      "Average Real Time Taken =  0.15171428571428572 s\n",
      "Max Real Time Taken =  0.161 s\n",
      "Min Time Taken =  0.146 s\n",
      "Average User Time Taken =  0.48742857142857143 s\n"
     ]
    }
   ],
   "source": [
    "#threadCount = 5\n",
    "#calculation per thread = 20000000\n",
    "chrono = [0.148, 0.154, 0.147, 0.146, 0.160, 0.161, 0.146]\n",
    "user = [0.152, 0.544, 0.571, 0.496, 0.571, 0.554, 0.524]\n",
    "print(\"Average Real Time Taken = \", np.mean(chrono), \"s\")\n",
    "print(\"Max Real Time Taken = \", np.max(chrono), \"s\")\n",
    "print(\"Min Time Taken = \", np.min(chrono), \"s\")\n",
    "print(\"Average User Time Taken = \", np.mean(user), \"s\")"
   ]
  },
  {
   "cell_type": "code",
   "execution_count": 55,
   "metadata": {},
   "outputs": [
    {
     "name": "stdout",
     "output_type": "stream",
     "text": [
      "Average Real Time Taken =  0.18015814285714285 s\n",
      "Max Real Time Taken =  0.1997 s\n",
      "Min Time Taken =  0.1542 s\n",
      "Average User Time Taken =  0.665 s\n"
     ]
    }
   ],
   "source": [
    "#threadCount = 8\n",
    "#calculation per thread = 12500000\n",
    "chrono = [0.168, 0.185107, 0.1997, 0.1970, 0.1871, 0.1542, 0.170]\n",
    "user = [0.604, 0.698, 0.742, 0.734, 0.703, 0.544, 0.630]\n",
    "print(\"Average Real Time Taken = \", np.mean(chrono), \"s\")\n",
    "print(\"Max Real Time Taken = \", np.max(chrono), \"s\")\n",
    "print(\"Min Time Taken = \", np.min(chrono), \"s\")\n",
    "print(\"Average User Time Taken = \", np.mean(user), \"s\")"
   ]
  },
  {
   "cell_type": "code",
   "execution_count": null,
   "metadata": {},
   "outputs": [],
   "source": [
    "#threadCount = 8\n",
    "#calculation per thread = 6250000\n",
    "chrono = [0.168, 0.185107, 0.1997, 0.1970, 0.1871, 0.1542, 0.170]\n",
    "user = [0.604, 0.698, 0.742, 0.734, 0.703, 0.544, 0.630]\n",
    "print(\"Average Real Time Taken = \", np.mean(chrono), \"s\")\n",
    "print(\"Max Real Time Taken = \", np.max(chrono), \"s\")\n",
    "print(\"Min Time Taken = \", np.min(chrono), \"s\")\n",
    "print(\"Average User Time Taken = \", np.mean(user), \"s\")"
   ]
  }
 ],
 "metadata": {
  "kernelspec": {
   "display_name": "Python 3",
   "language": "python",
   "name": "python3"
  },
  "language_info": {
   "codemirror_mode": {
    "name": "ipython",
    "version": 3
   },
   "file_extension": ".py",
   "mimetype": "text/x-python",
   "name": "python",
   "nbconvert_exporter": "python",
   "pygments_lexer": "ipython3",
   "version": "3.6.8"
  }
 },
 "nbformat": 4,
 "nbformat_minor": 2
}
